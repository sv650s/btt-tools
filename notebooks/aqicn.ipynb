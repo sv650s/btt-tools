{
 "cells": [
  {
   "cell_type": "code",
   "execution_count": 2,
   "metadata": {},
   "outputs": [
    {
     "name": "stderr",
     "output_type": "stream",
     "text": [
      "DEBUG:urllib3.connectionpool:Starting new HTTP connection (1): aqicn.org:80\n",
      "DEBUG:urllib3.connectionpool:http://aqicn.org:80 \"GET / HTTP/1.1\" 302 None\n",
      "DEBUG:urllib3.connectionpool:http://aqicn.org:80 \"GET /city/beijing/ HTTP/1.1\" 200 None\n"
     ]
    }
   ],
   "source": [
    "#import libraries\n",
    "import os, sys\n",
    "import json\n",
    "import pandas as pd\n",
    "# import geopandas as gpd\n",
    "import numpy as np\n",
    "from numpy import int64\n",
    "import requests, io\n",
    "import urllib.request\n",
    "# these are throwing an error when imported\n",
    "#\n",
    "# import folium\n",
    "# from folium import plugins\n",
    "# import fiona\n",
    "# import branca\n",
    "# from branca.colormap import linear\n",
    "from bs4 import BeautifulSoup\n",
    "import matplotlib.pyplot as plt\n",
    "import logging\n",
    "\n",
    "logging.basicConfig(level=logging.DEBUG)\n",
    "\n",
    "\n",
    "# get homepage\n",
    "url = 'http://aqicn.org'\n",
    "response = requests.get(url)\n",
    "data = response.content.decode('utf-8')\n",
    "soup = BeautifulSoup(response.text, 'lxml')\n"
   ]
  },
  {
   "cell_type": "code",
   "execution_count": 6,
   "metadata": {},
   "outputs": [
    {
     "data": {
      "text/plain": [
       "<div class=\"aqivalue\" id=\"aqiwgtvalue\" style=\" font-size:80px; background-color: #ffde33;color:#000000; \" title=\"Moderate\">72</div>"
      ]
     },
     "execution_count": 6,
     "metadata": {},
     "output_type": "execute_result"
    }
   ],
   "source": [
    "current_aqi = soup.find(attrs={\"class\": 'aqivalue'})\n",
    "current_aqi"
   ]
  },
  {
   "cell_type": "code",
   "execution_count": 7,
   "metadata": {},
   "outputs": [
    {
     "data": {
      "text/plain": [
       "'72'"
      ]
     },
     "execution_count": 7,
     "metadata": {},
     "output_type": "execute_result"
    }
   ],
   "source": [
    "current_aqi.get_text()"
   ]
  },
  {
   "cell_type": "code",
   "execution_count": 9,
   "metadata": {},
   "outputs": [
    {
     "data": {
      "text/plain": [
       "<div id=\"aqiwgtinfo\" style=\"font-size:42px; text-shadow: 1px 1px 0 #000000; color:#ffde33\">Moderate</div>"
      ]
     },
     "execution_count": 9,
     "metadata": {},
     "output_type": "execute_result"
    }
   ],
   "source": [
    "aqi_info = soup.find(attrs={\"id\": 'aqiwgtinfo'})\n",
    "aqi_info"
   ]
  },
  {
   "cell_type": "code",
   "execution_count": 10,
   "metadata": {},
   "outputs": [
    {
     "data": {
      "text/plain": [
       "'Moderate'"
      ]
     },
     "execution_count": 10,
     "metadata": {},
     "output_type": "execute_result"
    }
   ],
   "source": [
    "aqi_info.get_text()"
   ]
  },
  {
   "cell_type": "code",
   "execution_count": null,
   "metadata": {},
   "outputs": [],
   "source": []
  }
 ],
 "metadata": {
  "kernelspec": {
   "display_name": "Python 3",
   "language": "python",
   "name": "python3"
  },
  "language_info": {
   "codemirror_mode": {
    "name": "ipython",
    "version": 3
   },
   "file_extension": ".py",
   "mimetype": "text/x-python",
   "name": "python",
   "nbconvert_exporter": "python",
   "pygments_lexer": "ipython3",
   "version": "3.8.3"
  }
 },
 "nbformat": 4,
 "nbformat_minor": 4
}
