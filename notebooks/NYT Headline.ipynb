{
 "cells": [
  {
   "cell_type": "markdown",
   "metadata": {},
   "source": [
    "Get top stories from NYT"
   ]
  },
  {
   "cell_type": "code",
   "execution_count": 5,
   "metadata": {},
   "outputs": [],
   "source": [
    "#import libraries\n",
    "import os, sys\n",
    "import json\n",
    "import pandas as pd\n",
    "# import geopandas as gpd\n",
    "import numpy as np\n",
    "from numpy import int64\n",
    "import requests, io\n",
    "import urllib.request\n",
    "# these are throwing an error when imported\n",
    "#\n",
    "# import folium\n",
    "# from folium import plugins\n",
    "# import fiona\n",
    "# import branca\n",
    "# from branca.colormap import linear\n",
    "from bs4 import BeautifulSoup\n",
    "import matplotlib.pyplot as plt\n",
    "import logging\n",
    "\n",
    "logging.basicConfig(level=logging.DEBUG)"
   ]
  },
  {
   "cell_type": "code",
   "execution_count": 6,
   "metadata": {},
   "outputs": [
    {
     "name": "stderr",
     "output_type": "stream",
     "text": [
      "DEBUG:urllib3.connectionpool:Starting new HTTP connection (1): nytimes.com:80\n",
      "DEBUG:urllib3.connectionpool:http://nytimes.com:80 \"GET / HTTP/1.1\" 301 0\n",
      "DEBUG:urllib3.connectionpool:Starting new HTTPS connection (1): nytimes.com:443\n",
      "DEBUG:urllib3.connectionpool:https://nytimes.com:443 \"GET / HTTP/1.1\" 301 0\n",
      "DEBUG:urllib3.connectionpool:Starting new HTTPS connection (1): www.nytimes.com:443\n",
      "DEBUG:urllib3.connectionpool:https://www.nytimes.com:443 \"GET / HTTP/1.1\" 200 169067\n"
     ]
    }
   ],
   "source": [
    "# get homepage\n",
    "url = 'http://nytimes.com'\n",
    "response = requests.get(url)\n",
    "data = response.content.decode('utf-8')\n",
    "soup = BeautifulSoup(response.text, 'lxml')\n"
   ]
  },
  {
   "cell_type": "code",
   "execution_count": 7,
   "metadata": {},
   "outputs": [
    {
     "data": {
      "text/plain": [
       "<div class=\"css-6p6lnl\"><a href=\"/2021/01/04/us/politics/georgia-voters-trump.html\"><div class=\"css-1j568ae e1voiwgp1\"><h2 class=\"css-1ayculb e1voiwgp0\"><span>Georgians Begin Voting, and Election Official Blasts Trump’s False Claims</span></h2></div><ul class=\"css-13ksnqb e1lfvv701\"><li>The official ticked off a point-by-point rebuttal of the grievances President Trump aired in a weekend phone call pressuring Georgia to “find” votes.</li><li>The rebuke offered a vivid example of how Mr. Trump’s assault on voting integrity has roiled the state’s politics ahead of Tuesday’s Senate runoffs.</li></ul></a><div class=\"\"><div class=\"css-na047m\"></div></div></div>"
      ]
     },
     "execution_count": 7,
     "metadata": {},
     "output_type": "execute_result"
    }
   ],
   "source": [
    "top_story = soup.find(attrs={\"class\": 'css-6p6lnl'})\n",
    "top_story"
   ]
  },
  {
   "cell_type": "code",
   "execution_count": 8,
   "metadata": {},
   "outputs": [
    {
     "data": {
      "text/plain": [
       "<a href=\"/2021/01/04/us/politics/georgia-voters-trump.html\"><div class=\"css-1j568ae e1voiwgp1\"><h2 class=\"css-1ayculb e1voiwgp0\"><span>Georgians Begin Voting, and Election Official Blasts Trump’s False Claims</span></h2></div><ul class=\"css-13ksnqb e1lfvv701\"><li>The official ticked off a point-by-point rebuttal of the grievances President Trump aired in a weekend phone call pressuring Georgia to “find” votes.</li><li>The rebuke offered a vivid example of how Mr. Trump’s assault on voting integrity has roiled the state’s politics ahead of Tuesday’s Senate runoffs.</li></ul></a>"
      ]
     },
     "execution_count": 8,
     "metadata": {},
     "output_type": "execute_result"
    }
   ],
   "source": [
    "link = top_story.find(\"a\")\n",
    "link"
   ]
  },
  {
   "cell_type": "code",
   "execution_count": 9,
   "metadata": {},
   "outputs": [
    {
     "data": {
      "text/plain": [
       "'Georgians Begin Voting, and Election Official Blasts Trump’s False ClaimsThe official ticked off a point-by-point rebuttal of the grievances President Trump aired in a weekend phone call pressuring Georgia to “find” votes.The rebuke offered a vivid example of how Mr. Trump’s assault on voting integrity has roiled the state’s politics ahead of Tuesday’s Senate runoffs.'"
      ]
     },
     "execution_count": 9,
     "metadata": {},
     "output_type": "execute_result"
    }
   ],
   "source": [
    "link.get_text()"
   ]
  },
  {
   "cell_type": "code",
   "execution_count": 10,
   "metadata": {},
   "outputs": [
    {
     "data": {
      "text/plain": [
       "'/2021/01/04/us/politics/georgia-voters-trump.html'"
      ]
     },
     "execution_count": 10,
     "metadata": {},
     "output_type": "execute_result"
    }
   ],
   "source": [
    "link['href']"
   ]
  },
  {
   "cell_type": "code",
   "execution_count": null,
   "metadata": {},
   "outputs": [],
   "source": []
  }
 ],
 "metadata": {
  "kernelspec": {
   "display_name": "Python 3",
   "language": "python",
   "name": "python3"
  },
  "language_info": {
   "codemirror_mode": {
    "name": "ipython",
    "version": 3
   },
   "file_extension": ".py",
   "mimetype": "text/x-python",
   "name": "python",
   "nbconvert_exporter": "python",
   "pygments_lexer": "ipython3",
   "version": "3.8.3"
  }
 },
 "nbformat": 4,
 "nbformat_minor": 4
}
