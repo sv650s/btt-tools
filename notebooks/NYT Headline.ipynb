{
 "cells": [
  {
   "cell_type": "code",
   "execution_count": 1,
   "metadata": {},
   "outputs": [],
   "source": [
    "#import libraries\n",
    "import os, sys\n",
    "import json\n",
    "import pandas as pd\n",
    "# import geopandas as gpd\n",
    "import numpy as np\n",
    "from numpy import int64\n",
    "import requests, io\n",
    "import urllib.request\n",
    "# these are throwing an error when imported\n",
    "#\n",
    "# import folium\n",
    "# from folium import plugins\n",
    "# import fiona\n",
    "# import branca\n",
    "# from branca.colormap import linear\n",
    "from bs4 import BeautifulSoup\n",
    "import matplotlib.pyplot as plt\n",
    "import logging\n",
    "\n",
    "logging.basicConfig(level=logging.DEBUG)"
   ]
  },
  {
   "cell_type": "code",
   "execution_count": 2,
   "metadata": {},
   "outputs": [
    {
     "name": "stderr",
     "output_type": "stream",
     "text": [
      "DEBUG:urllib3.connectionpool:Starting new HTTP connection (1): nytimes.com:80\n",
      "DEBUG:urllib3.connectionpool:http://nytimes.com:80 \"GET / HTTP/1.1\" 301 0\n",
      "DEBUG:urllib3.connectionpool:Starting new HTTPS connection (1): nytimes.com:443\n",
      "DEBUG:urllib3.connectionpool:https://nytimes.com:443 \"GET / HTTP/1.1\" 301 0\n",
      "DEBUG:urllib3.connectionpool:Starting new HTTPS connection (1): www.nytimes.com:443\n",
      "DEBUG:urllib3.connectionpool:https://www.nytimes.com:443 \"GET / HTTP/1.1\" 200 157820\n"
     ]
    }
   ],
   "source": [
    "# get homepage\n",
    "url = 'http://nytimes.com'\n",
    "response = requests.get(url)\n",
    "data = response.content.decode('utf-8')\n",
    "soup = BeautifulSoup(response.text, 'lxml')\n"
   ]
  },
  {
   "cell_type": "code",
   "execution_count": 5,
   "metadata": {},
   "outputs": [
    {
     "data": {
      "text/plain": [
       "<div class=\"css-6p6lnl\"><a href=\"/2021/01/03/us/politics/trump-raffensperger-call-georgia.html\"><div class=\"css-1j568ae e1voiwgp1\"><h2 class=\"css-1ayculb e1voiwgp0\"><span>President Issues Vague Threats in Bid to Overturn Election</span></h2></div><ul class=\"css-13ksnqb e1lfvv701\"><li>During an hourlong phone call, President Trump hinted that Georgia’s election officials could be prosecuted criminally if they did not do his bidding.</li><li>Georgia’s secretary of state, Brad Raffensperger, rejected the president’s efforts. “The data you have is wrong,” he said.</li></ul></a><div class=\"\"><div class=\"css-na047m\"></div></div></div>"
      ]
     },
     "execution_count": 5,
     "metadata": {},
     "output_type": "execute_result"
    }
   ],
   "source": [
    "top_story = soup.find(attrs={\"class\": 'css-6p6lnl'})\n",
    "top_story"
   ]
  },
  {
   "cell_type": "code",
   "execution_count": 6,
   "metadata": {},
   "outputs": [
    {
     "data": {
      "text/plain": [
       "<a href=\"/2021/01/03/us/politics/trump-raffensperger-call-georgia.html\"><div class=\"css-1j568ae e1voiwgp1\"><h2 class=\"css-1ayculb e1voiwgp0\"><span>President Issues Vague Threats in Bid to Overturn Election</span></h2></div><ul class=\"css-13ksnqb e1lfvv701\"><li>During an hourlong phone call, President Trump hinted that Georgia’s election officials could be prosecuted criminally if they did not do his bidding.</li><li>Georgia’s secretary of state, Brad Raffensperger, rejected the president’s efforts. “The data you have is wrong,” he said.</li></ul></a>"
      ]
     },
     "execution_count": 6,
     "metadata": {},
     "output_type": "execute_result"
    }
   ],
   "source": [
    "link = top_story.find(\"a\")\n",
    "link"
   ]
  },
  {
   "cell_type": "code",
   "execution_count": 7,
   "metadata": {},
   "outputs": [
    {
     "data": {
      "text/plain": [
       "'President Issues Vague Threats in Bid to Overturn ElectionDuring an hourlong phone call, President Trump hinted that Georgia’s election officials could be prosecuted criminally if they did not do his bidding.Georgia’s secretary of state, Brad Raffensperger, rejected the president’s efforts. “The data you have is wrong,” he said.'"
      ]
     },
     "execution_count": 7,
     "metadata": {},
     "output_type": "execute_result"
    }
   ],
   "source": [
    "link.get_text()"
   ]
  },
  {
   "cell_type": "code",
   "execution_count": null,
   "metadata": {},
   "outputs": [],
   "source": []
  }
 ],
 "metadata": {
  "kernelspec": {
   "display_name": "Python 3",
   "language": "python",
   "name": "python3"
  },
  "language_info": {
   "codemirror_mode": {
    "name": "ipython",
    "version": 3
   },
   "file_extension": ".py",
   "mimetype": "text/x-python",
   "name": "python",
   "nbconvert_exporter": "python",
   "pygments_lexer": "ipython3",
   "version": "3.8.3"
  }
 },
 "nbformat": 4,
 "nbformat_minor": 4
}
