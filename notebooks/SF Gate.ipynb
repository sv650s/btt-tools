{
 "cells": [
  {
   "cell_type": "code",
   "execution_count": 1,
   "metadata": {},
   "outputs": [],
   "source": [
    "#import libraries\n",
    "import os, sys\n",
    "import json\n",
    "import pandas as pd\n",
    "# import geopandas as gpd\n",
    "import numpy as np\n",
    "from numpy import int64\n",
    "import requests, io\n",
    "import urllib.request\n",
    "# these are throwing an error when imported\n",
    "#\n",
    "# import folium\n",
    "# from folium import plugins\n",
    "# import fiona\n",
    "# import branca\n",
    "# from branca.colormap import linear\n",
    "from bs4 import BeautifulSoup\n",
    "import matplotlib.pyplot as plt\n",
    "import logging\n",
    "\n",
    "logging.basicConfig(level=logging.DEBUG)"
   ]
  },
  {
   "cell_type": "code",
   "execution_count": 13,
   "metadata": {},
   "outputs": [
    {
     "name": "stderr",
     "output_type": "stream",
     "text": [
      "DEBUG:urllib3.connectionpool:Starting new HTTP connection (1): sfgate.com:80\n",
      "DEBUG:urllib3.connectionpool:http://sfgate.com:80 \"GET / HTTP/1.1\" 301 231\n",
      "DEBUG:urllib3.connectionpool:Starting new HTTPS connection (1): www.sfgate.com:443\n",
      "DEBUG:urllib3.connectionpool:https://www.sfgate.com:443 \"GET / HTTP/1.1\" 200 49910\n"
     ]
    }
   ],
   "source": [
    "# get homepage\n",
    "url = 'http://sfgate.com'\n",
    "response = requests.get(url)\n",
    "data = response.content.decode('utf-8')\n",
    "soup = BeautifulSoup(response.text, 'lxml')\n",
    "\n"
   ]
  },
  {
   "cell_type": "code",
   "execution_count": 22,
   "metadata": {},
   "outputs": [
    {
     "data": {
      "text/plain": [
       "[<a class=\"dynamicSpotlight--item-header hdn-analytics\" data-hdn-analytics=\"visit|article-15845990|dynamic_spotlight-107939|1\" href=\"/bayarea/article/Chesa-Boudin-San-Francisco-hit-and-run-New-Years-15845990.php?IPID=SFGate-HP-CP-Spotlight\">Boudin has testy interview over handling of hit-and-run suspect</a>,\n",
       " <a class=\"dynamicSpotlight--item-header hdn-analytics\" data-hdn-analytics=\"visit|article-15844662|dynamic_spotlight-107939|2\" href=\"/warriors/article/What-s-all-this-slander-Warriors-Steph-Curry-15844662.php?IPID=SFGate-HP-CP-Spotlight\">An explainer of the 'slander' that spurred Curry's 62-point game</a>,\n",
       " <a class=\"dynamicSpotlight--item-header hdn-analytics\" data-hdn-analytics=\"visit|article-15844434|dynamic_spotlight-107939|3\" href=\"/bayarea/article/Granite-Bay-party-Placer-County-New-Years-15844434.php?IPID=SFGate-HP-CP-Spotlight\">100 people pack NYE party in affluent Sacramento suburb</a>,\n",
       " <a class=\"dynamicSpotlight--item-header hdn-analytics\" data-hdn-analytics=\"visit|article-15839640|dynamic_spotlight-107939|4\" href=\"/politics/article/what-is-Epoch-Times-Falun-Gong-15839640.php?IPID=SFGate-HP-CP-Spotlight\">One of Trump's favorite 'news' sources is linked to Shen Yun</a>,\n",
       " <a class=\"dynamicSpotlight--item-header hdn-analytics\" data-hdn-analytics=\"visit|article-15845307|dynamic_spotlight-107939|5\" href=\"/bayarea/article/Newsom-details-vaccine-plan-California-COVID-15845307.php?IPID=SFGate-HP-CP-Spotlight\">Calif. has 1.3M vaccines, but only 450K have been used</a>,\n",
       " <a class=\"dynamicSpotlight--item-header hdn-analytics\" data-hdn-analytics=\"visit|article-15837042|dynamic_spotlight-107939|6\" href=\"/local/article/Remembering-the-Disney-World-of-electronic-stores-15837042.php?IPID=SFGate-HP-CP-Spotlight\">The kitschy history of the Bay Area's themed Fry's Electronics</a>,\n",
       " <a class=\"dynamicSpotlight--item-header hdn-analytics\" data-hdn-analytics=\"visit|article-15832836|dynamic_spotlight-107939|7\" href=\"/sf-culture/article/SFGATE-columnist-Drew-Magary-s-spiciest-stories-15832836.php?IPID=SFGate-HP-CP-Spotlight\">SFGATE columnist Drew Magary's spiciest stories of 2020</a>]"
      ]
     },
     "execution_count": 22,
     "metadata": {},
     "output_type": "execute_result"
    }
   ],
   "source": [
    "# <a class=\"dynamicSpotlight--item-header hdn-analytics  \"  href=\"/bayarea/article/Chesa-Boudin-San-Francisco-hit-and-run-New-Years-15845990.php?IPID=SFGate-HP-CP-Spotlight\" data-hdn-analytics=\"visit|article-15845990|dynamic_spotlight-107939|1\">Boudin has testy interview over handling of hit-and-run suspect</a><div class=\"dynamicSpotlight--item-abstract\">\n",
    "# <a class=\"abstract hdn-analytics \"  href=\"/bayarea/article/Chesa-Boudin-San-Francisco-hit-and-run-New-Years-15845990.php?IPID=SFGate-HP-CP-Spotlight\" data-hdn-analytics=\"visit|article-15845990|dynamic_spotlight-107939|1\">Boudin said his office did not file new charges and instead referred the cases to state parole agents.</a>\n",
    "\n",
    "# looks like find all wil get all the 7 cells on the front page\n",
    "spotlights = soup.find_all(attrs={\"class\": \"dynamicSpotlight--item-header hdn-analytics\"}, href=True)\n",
    "spotlights"
   ]
  },
  {
   "cell_type": "code",
   "execution_count": 18,
   "metadata": {},
   "outputs": [
    {
     "data": {
      "text/plain": [
       "'Boudin has testy interview over handling of hit-and-run suspect'"
      ]
     },
     "execution_count": 18,
     "metadata": {},
     "output_type": "execute_result"
    }
   ],
   "source": [
    "# headline\n",
    "spotlights.get_text()"
   ]
  },
  {
   "cell_type": "code",
   "execution_count": 20,
   "metadata": {},
   "outputs": [
    {
     "data": {
      "text/plain": [
       "'/bayarea/article/Chesa-Boudin-San-Francisco-hit-and-run-New-Years-15845990.php?IPID=SFGate-HP-CP-Spotlight'"
      ]
     },
     "execution_count": 20,
     "metadata": {},
     "output_type": "execute_result"
    }
   ],
   "source": [
    "spotlights['href']"
   ]
  },
  {
   "cell_type": "code",
   "execution_count": 24,
   "metadata": {},
   "outputs": [
    {
     "name": "stdout",
     "output_type": "stream",
     "text": [
      "headline: Boudin has testy interview over handling of hit-and-run suspect\n",
      "link: /bayarea/article/Chesa-Boudin-San-Francisco-hit-and-run-New-Years-15845990.php?IPID=SFGate-HP-CP-Spotlight\n",
      "headline: An explainer of the 'slander' that spurred Curry's 62-point game\n",
      "link: /warriors/article/What-s-all-this-slander-Warriors-Steph-Curry-15844662.php?IPID=SFGate-HP-CP-Spotlight\n",
      "headline: 100 people pack NYE party in affluent Sacramento suburb\n",
      "link: /bayarea/article/Granite-Bay-party-Placer-County-New-Years-15844434.php?IPID=SFGate-HP-CP-Spotlight\n",
      "headline: One of Trump's favorite 'news' sources is linked to Shen Yun\n",
      "link: /politics/article/what-is-Epoch-Times-Falun-Gong-15839640.php?IPID=SFGate-HP-CP-Spotlight\n",
      "headline: Calif. has 1.3M vaccines, but only 450K have been used\n",
      "link: /bayarea/article/Newsom-details-vaccine-plan-California-COVID-15845307.php?IPID=SFGate-HP-CP-Spotlight\n",
      "headline: The kitschy history of the Bay Area's themed Fry's Electronics\n",
      "link: /local/article/Remembering-the-Disney-World-of-electronic-stores-15837042.php?IPID=SFGate-HP-CP-Spotlight\n",
      "headline: SFGATE columnist Drew Magary's spiciest stories of 2020\n",
      "link: /sf-culture/article/SFGATE-columnist-Drew-Magary-s-spiciest-stories-15832836.php?IPID=SFGate-HP-CP-Spotlight\n"
     ]
    }
   ],
   "source": [
    "for s in spotlights:\n",
    "    print(f'headline: {s.get_text()}')\n",
    "    print(f'link: {s[\"href\"]}')"
   ]
  },
  {
   "cell_type": "code",
   "execution_count": null,
   "metadata": {},
   "outputs": [],
   "source": []
  },
  {
   "cell_type": "code",
   "execution_count": null,
   "metadata": {},
   "outputs": [],
   "source": []
  },
  {
   "cell_type": "code",
   "execution_count": null,
   "metadata": {},
   "outputs": [],
   "source": []
  },
  {
   "cell_type": "code",
   "execution_count": null,
   "metadata": {},
   "outputs": [],
   "source": []
  },
  {
   "cell_type": "code",
   "execution_count": 9,
   "metadata": {},
   "outputs": [
    {
     "data": {
      "text/plain": [
       "<div class=\"home-highlights\">\n",
       "<div class=\"list-v\">\n",
       "<figure>\n",
       "<a href=\"/thailand/general/2044931/govt-unveils-new-curbs\"><img alt=\"New curbs\" src=\"https://static.bangkokpost.com/media/content/20210104/c1_2044931_210104062922_462.jpg\" srcset=\"https://static.bangkokpost.com/media/content/20210104/c1_2044931_210104062922_345.jpg 500w,https://static.bangkokpost.com/media/content/20210104/c1_2044931_210104062922_411.jpg 350w,https://static.bangkokpost.com/media/content/20210104/c1_2044931_210104062922_462.jpg 700w\" title=\"New curbs\"/></a>\n",
       "</figure>\n",
       "<div class=\"list-detail\">\n",
       "<div class=\"h-line\"><a href=\"/thailand\">Thailand</a></div>\n",
       "<h2><a class=\"cx-exclude-id\" data-cx-exclude-id=\"2044931\" href=\"/thailand/general/2044931/govt-unveils-new-curbs\">New curbs</a> </h2>\n",
       "<p>Prime Minister Prayut Chan-o-cha has issued a set of new restrictions taking effect on Monday in the wake of a new surge of the coronavirus.</p>\n",
       "<div class=\"f-icon\">\n",
       "<span>04:30</span>\n",
       "<span class=\"ic-comment\"><a href=\"/thailand/general/2044931/govt-unveils-new-curbs?view_comment=1\"><i class=\"icon-comment\"></i> 56</a></span> </div>\n",
       "</div>\n",
       "</div>\n",
       "</div>"
      ]
     },
     "execution_count": 9,
     "metadata": {},
     "output_type": "execute_result"
    }
   ],
   "source": [
    "highlights = soup.find(attrs={\"class\": 'home-highlights'})\n",
    "highlights"
   ]
  },
  {
   "cell_type": "code",
   "execution_count": 17,
   "metadata": {},
   "outputs": [
    {
     "data": {
      "text/plain": [
       "<a class=\"cx-exclude-id\" data-cx-exclude-id=\"2044931\" href=\"/thailand/general/2044931/govt-unveils-new-curbs\">New curbs</a>"
      ]
     },
     "execution_count": 17,
     "metadata": {},
     "output_type": "execute_result"
    }
   ],
   "source": [
    "top_story = highlights.find(attrs={\"class\": \"cx-exclude-id\"})\n",
    "top_story"
   ]
  },
  {
   "cell_type": "code",
   "execution_count": 20,
   "metadata": {},
   "outputs": [
    {
     "data": {
      "text/plain": [
       "'New curbs'"
      ]
     },
     "execution_count": 20,
     "metadata": {},
     "output_type": "execute_result"
    }
   ],
   "source": [
    "top_story.get_text()"
   ]
  },
  {
   "cell_type": "code",
   "execution_count": 21,
   "metadata": {},
   "outputs": [
    {
     "data": {
      "text/plain": [
       "'Prime Minister Prayut Chan-o-cha has issued a set of new restrictions taking effect on Monday in the wake of a new surge of the coronavirus.'"
      ]
     },
     "execution_count": 21,
     "metadata": {},
     "output_type": "execute_result"
    }
   ],
   "source": [
    "highlights.find(\"p\").get_text()"
   ]
  },
  {
   "cell_type": "code",
   "execution_count": null,
   "metadata": {},
   "outputs": [],
   "source": []
  }
 ],
 "metadata": {
  "kernelspec": {
   "display_name": "Python 3",
   "language": "python",
   "name": "python3"
  },
  "language_info": {
   "codemirror_mode": {
    "name": "ipython",
    "version": 3
   },
   "file_extension": ".py",
   "mimetype": "text/x-python",
   "name": "python",
   "nbconvert_exporter": "python",
   "pygments_lexer": "ipython3",
   "version": "3.8.3"
  }
 },
 "nbformat": 4,
 "nbformat_minor": 4
}
