{
 "cells": [
  {
   "cell_type": "code",
   "execution_count": 1,
   "metadata": {},
   "outputs": [],
   "source": [
    "#import libraries\n",
    "import os, sys\n",
    "import json\n",
    "import pandas as pd\n",
    "# import geopandas as gpd\n",
    "import numpy as np\n",
    "from numpy import int64\n",
    "import requests, io\n",
    "import urllib.request\n",
    "# these are throwing an error when imported\n",
    "#\n",
    "# import folium\n",
    "# from folium import plugins\n",
    "# import fiona\n",
    "# import branca\n",
    "# from branca.colormap import linear\n",
    "from bs4 import BeautifulSoup\n",
    "import matplotlib.pyplot as plt\n",
    "import logging\n",
    "\n",
    "logging.basicConfig(level=logging.DEBUG)"
   ]
  },
  {
   "cell_type": "code",
   "execution_count": 3,
   "metadata": {},
   "outputs": [
    {
     "name": "stderr",
     "output_type": "stream",
     "text": [
      "DEBUG:urllib3.connectionpool:Starting new HTTP connection (1): bangkokpost.com:80\n",
      "DEBUG:urllib3.connectionpool:http://bangkokpost.com:80 \"GET / HTTP/1.1\" 301 185\n",
      "DEBUG:urllib3.connectionpool:Starting new HTTPS connection (1): bangkokpost.com:443\n",
      "DEBUG:urllib3.connectionpool:https://bangkokpost.com:443 \"GET / HTTP/1.1\" 301 235\n",
      "DEBUG:urllib3.connectionpool:Starting new HTTP connection (1): www.bangkokpost.com:80\n",
      "DEBUG:urllib3.connectionpool:http://www.bangkokpost.com:80 \"GET / HTTP/1.1\" 301 185\n",
      "DEBUG:urllib3.connectionpool:Starting new HTTPS connection (1): www.bangkokpost.com:443\n",
      "DEBUG:urllib3.connectionpool:https://www.bangkokpost.com:443 \"GET / HTTP/1.1\" 200 49191\n"
     ]
    },
    {
     "data": {
      "text/plain": [
       "[]"
      ]
     },
     "execution_count": 3,
     "metadata": {},
     "output_type": "execute_result"
    }
   ],
   "source": [
    "# get homepage\n",
    "url = 'http://bangkokpost.com'\n",
    "response = requests.get(url)\n",
    "data = response.content.decode('utf-8')\n",
    "soup = BeautifulSoup(response.text, 'lxml')\n"
   ]
  },
  {
   "cell_type": "code",
   "execution_count": 9,
   "metadata": {},
   "outputs": [
    {
     "data": {
      "text/plain": [
       "<div class=\"home-highlights\">\n",
       "<div class=\"list-v\">\n",
       "<figure>\n",
       "<a href=\"/thailand/general/2044931/govt-unveils-new-curbs\"><img alt=\"New curbs\" src=\"https://static.bangkokpost.com/media/content/20210104/c1_2044931_210104062922_462.jpg\" srcset=\"https://static.bangkokpost.com/media/content/20210104/c1_2044931_210104062922_345.jpg 500w,https://static.bangkokpost.com/media/content/20210104/c1_2044931_210104062922_411.jpg 350w,https://static.bangkokpost.com/media/content/20210104/c1_2044931_210104062922_462.jpg 700w\" title=\"New curbs\"/></a>\n",
       "</figure>\n",
       "<div class=\"list-detail\">\n",
       "<div class=\"h-line\"><a href=\"/thailand\">Thailand</a></div>\n",
       "<h2><a class=\"cx-exclude-id\" data-cx-exclude-id=\"2044931\" href=\"/thailand/general/2044931/govt-unveils-new-curbs\">New curbs</a> </h2>\n",
       "<p>Prime Minister Prayut Chan-o-cha has issued a set of new restrictions taking effect on Monday in the wake of a new surge of the coronavirus.</p>\n",
       "<div class=\"f-icon\">\n",
       "<span>04:30</span>\n",
       "<span class=\"ic-comment\"><a href=\"/thailand/general/2044931/govt-unveils-new-curbs?view_comment=1\"><i class=\"icon-comment\"></i> 56</a></span> </div>\n",
       "</div>\n",
       "</div>\n",
       "</div>"
      ]
     },
     "execution_count": 9,
     "metadata": {},
     "output_type": "execute_result"
    }
   ],
   "source": [
    "highlights = soup.find(attrs={\"class\": 'home-highlights'})\n",
    "highlights"
   ]
  },
  {
   "cell_type": "code",
   "execution_count": 17,
   "metadata": {},
   "outputs": [
    {
     "data": {
      "text/plain": [
       "<a class=\"cx-exclude-id\" data-cx-exclude-id=\"2044931\" href=\"/thailand/general/2044931/govt-unveils-new-curbs\">New curbs</a>"
      ]
     },
     "execution_count": 17,
     "metadata": {},
     "output_type": "execute_result"
    }
   ],
   "source": [
    "top_story = highlights.find(attrs={\"class\": \"cx-exclude-id\"})\n",
    "top_story"
   ]
  },
  {
   "cell_type": "code",
   "execution_count": 20,
   "metadata": {},
   "outputs": [
    {
     "data": {
      "text/plain": [
       "'New curbs'"
      ]
     },
     "execution_count": 20,
     "metadata": {},
     "output_type": "execute_result"
    }
   ],
   "source": [
    "top_story.get_text()"
   ]
  },
  {
   "cell_type": "code",
   "execution_count": 21,
   "metadata": {},
   "outputs": [
    {
     "data": {
      "text/plain": [
       "'Prime Minister Prayut Chan-o-cha has issued a set of new restrictions taking effect on Monday in the wake of a new surge of the coronavirus.'"
      ]
     },
     "execution_count": 21,
     "metadata": {},
     "output_type": "execute_result"
    }
   ],
   "source": [
    "highlights.find(\"p\").get_text()"
   ]
  },
  {
   "cell_type": "code",
   "execution_count": null,
   "metadata": {},
   "outputs": [],
   "source": []
  }
 ],
 "metadata": {
  "kernelspec": {
   "display_name": "Python 3",
   "language": "python",
   "name": "python3"
  },
  "language_info": {
   "codemirror_mode": {
    "name": "ipython",
    "version": 3
   },
   "file_extension": ".py",
   "mimetype": "text/x-python",
   "name": "python",
   "nbconvert_exporter": "python",
   "pygments_lexer": "ipython3",
   "version": "3.8.3"
  }
 },
 "nbformat": 4,
 "nbformat_minor": 4
}
