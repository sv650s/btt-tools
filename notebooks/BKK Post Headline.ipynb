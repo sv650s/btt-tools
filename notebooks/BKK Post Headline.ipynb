{
 "cells": [
  {
   "cell_type": "code",
   "execution_count": 1,
   "metadata": {},
   "outputs": [],
   "source": [
    "#import libraries\n",
    "import os, sys\n",
    "import json\n",
    "import pandas as pd\n",
    "# import geopandas as gpd\n",
    "import numpy as np\n",
    "from numpy import int64\n",
    "import requests, io\n",
    "import urllib.request\n",
    "# these are throwing an error when imported\n",
    "#\n",
    "# import folium\n",
    "# from folium import plugins\n",
    "# import fiona\n",
    "# import branca\n",
    "# from branca.colormap import linear\n",
    "from bs4 import BeautifulSoup\n",
    "import matplotlib.pyplot as plt\n",
    "import logging\n",
    "\n",
    "logging.basicConfig(level=logging.DEBUG)"
   ]
  },
  {
   "cell_type": "code",
   "execution_count": null,
   "metadata": {},
   "outputs": [],
   "source": [
    "# get homepage\n",
    "url = 'https://www.bbc.com/news/world'\n",
    "response = requests.get(url)\n",
    "data = response.content.decode('utf-8')\n",
    "soup = BeautifulSoup(response.text, 'lxml')\n"
   ]
  },
  {
   "cell_type": "markdown",
   "metadata": {},
   "source": [
    "this has the summary\n",
    "\n",
    "<h3 class=\"gs-c-promo-heading__title gel-paragon-bold gs-u-mt+ nw-o-link-split__text\">Georgia Senate races on a knife-edge in vote count</h3>\n",
    "\n",
    "\n",
    "this has the link\n",
    "<a class=\"gs-c-promo-heading gs-o-faux-block-link__overlay-link gel-paragon-bold gs-u-mt+ nw-o-link-split__anchor\" href=\"/news/election-us-2020-55544056\"><h3 class=\"gs-c-promo-heading__title gel-paragon-bold gs-u-mt+ nw-o-link-split__text\">Georgia Senate races on a knife-edge in vote count</h3></a>"
   ]
  },
  {
   "cell_type": "markdown",
   "metadata": {},
   "source": [
    "get summary and link"
   ]
  },
  {
   "cell_type": "code",
   "execution_count": null,
   "metadata": {},
   "outputs": [],
   "source": [
    "main_section = soup.find(attrs={\"class\":\"gs-c-promo-heading gs-o-faux-block-link__overlay-link gel-paragon-bold gs-u-mt+ nw-o-link-split__anchor\"})\n",
    "print(f'summary: {main_section.get_text()}')\n",
    "main_section['href']"
   ]
  },
  {
   "cell_type": "markdown",
   "metadata": {},
   "source": [
    "main headline\n",
    "<p class=\"gs-c-promo-summary gel-long-primer gs-u-mt nw-c-promo-summary\">Republicans Kelly Loeffler and David Perdue are neck and neck with Democrats Raphael Warnock and Jon Ossoff.</p>"
   ]
  },
  {
   "cell_type": "code",
   "execution_count": null,
   "metadata": {},
   "outputs": [],
   "source": [
    "soup.find(attrs={\"class\":\n",
    "                \"gs-c-promo-summary gel-long-primer gs-u-mt nw-c-promo-summary\"}).get_text()"
   ]
  },
  {
   "cell_type": "code",
   "execution_count": null,
   "metadata": {},
   "outputs": [],
   "source": []
  },
  {
   "cell_type": "markdown",
   "metadata": {},
   "source": [
    "# Get other top stories"
   ]
  },
  {
   "cell_type": "markdown",
   "metadata": {},
   "source": [
    "<div class=\"gel-layout gel-layout--equal\"><div class=\"gel-layout__item gs-u-pb+@m gel-1/3@m gel0-1/4@xl gel-1/3@xxl nw-o-keyline nw-o-no-keyline@m\"><div class=\"gs-c-promo gs-t-News nw-c-promo gs-o-faux-block-link gs-u-pb gs-u-pb+@m nw-p-default gs-c-promo--inline gs-c-promo--stacked@m gs-c-promo--flex\"><div class=\"gs-c-promo-image gel-1/2@xs gel-1/1@s gs-u-display-none gs-u-display-block@xs\"><div class=\"gs-o-media-island\"><div class=\"gs-o-responsive-image gs-o-responsive-image--16by9\"><img src=\"https://ichef.bbci.co.uk/news/380/cpsprodpb/D29C/production/_116361935_tv064584159.jpg\" class=\"lazyloaded\" alt=\"Sam Cheung Ho-sum and Prince Wong Ji-yuet march on a street to campaign for the unofficial &quot;primary&quot; election organised by the pro-democracy camp, in Hong Kong\" data-src=\"https://ichef.bbci.co.uk/news/{width}/cpsprodpb/D29C/production/_116361935_tv064584159.jpg\" width=\"380\"></div></div></div><div class=\"gs-c-promo-body gs-u-mt@xxs gs-u-mt@m gs-c-promo-body--flex gs-u-mt@xs gs-u-mt0@xs gs-u-mt@m gel-1/2@xs gel-1/1@s\"><div><a class=\"gs-c-promo-heading gs-o-faux-block-link__overlay-link gel-pica-bold nw-o-link-split__anchor\" href=\"/news/world-asia-china-55555299\"><h3 class=\"gs-c-promo-heading__title gel-pica-bold nw-o-link-split__text\">Mass arrests among Hong Kong pro-democracy camp</h3></a><p class=\"gs-c-promo-summary gel-long-primer gs-u-mt nw-c-promo-summary gs-u-display-none gs-u-display-block@m\">The arrests of around 50 people appear linked to a primary the opposition held ahead of elections.</p></div><div><ul class=\"gs-o-list-inline gs-o-list-inline--divided gel-brevier gs-u-mt-\"><li class=\"nw-c-promo-meta\"><span class=\"gs-c-timestamp gs-o-bullet gs-o-bullet- nw-c-timestamp\"><span class=\"gs-o-bullet__icon gel-icon\"><svg focusable=\"false\" viewBox=\"0 0 32 32\"><polygon points=\"17,15.4 17,6 15,6 15,16.6 23.8,21.7 24.8,19.9\"></polygon><path d=\"M16,4c6.6,0,12,5.4,12,12c0,6.6-5.4,12-12,12S4,22.6,4,16C4,9.4,9.4,4,16,4 M16,0C7.2,0,0,7.2,0,16c0,8.8,7.2,16,16,16 s16-7.2,16-16C32,7.2,24.8,0,16,0L16,0z\"></path></svg></span><time class=\"gs-o-bullet__text date qa-status-date\" datetime=\"2021-01-06T03:38:14.000Z\" data-seconds=\"1609904294\" data-datetime=\"1h\"><span aria-hidden=\"true\" class=\"qa-status-date-output\">1<!-- -->h</span><span class=\"gs-u-vh\">an hour ago</span></time></span></li><li class=\"nw-c-promo-meta\"><a href=\"/news/world/asia/china\" class=\"gs-c-section-link gs-c-section-link--truncate nw-c-section-link nw-o-link nw-o-link--no-visited-state\" aria-label=\"From China\"><span aria-hidden=\"true\">China</span></a></li></ul></div></div></div></div><div class=\"gel-layout__item gs-u-pb+@m gel-1/3@m gel-1/4@xl gel-1/3@xxl nw-o-keyline nw-o-no-keyline@m\"><div class=\"gs-c-promo gs-t-News nw-c-promo gs-o-faux-block-link gs-u-pb gs-u-pb+@m nw-p-default gs-c-promo--inline gs-c-promo--stacked@m gs-c-promo--flex\"><div class=\"gs-c-promo-image gel-1/2@xs gel-1/1@s gs-u-display-none gs-u-display-block@xs\"><div class=\"gs-o-media-island\"><div class=\"gs-o-responsive-image gs-o-responsive-image--16by9\"><img src=\"https://ichef.bbci.co.uk/news/380/cpsprodpb/A4BA/production/_114107124_hi063035765.jpg\" class=\"lazyloaded\" alt=\"Image of Jacob Blake supplied by his legal team\" data-src=\"https://ichef.bbci.co.uk/news/{width}/cpsprodpb/A4BA/production/_114107124_hi063035765.jpg\" width=\"380\"></div></div></div><div class=\"gs-c-promo-body gs-u-mt@xxs gs-u-mt@m gs-c-promo-body--flex gs-u-mt@xs gs-u-mt0@xs gs-u-mt@m gel-1/2@xs gel-1/1@s\"><div><a class=\"gs-c-promo-heading gs-o-faux-block-link__overlay-link gel-pica-bold nw-o-link-split__anchor\" href=\"/news/world-us-canada-55554558\"><h3 class=\"gs-c-promo-heading__title gel-pica-bold nw-o-link-split__text\">No police officers charged in Jacob Blake shooting</h3></a><p class=\"gs-c-promo-summary gel-long-primer gs-u-mt nw-c-promo-summary gs-u-display-none gs-u-display-block@m\">Wisconsin's district attorney says no-one will face charges over the shooting of the black man in August.</p></div><div><ul class=\"gs-o-list-inline gs-o-list-inline--divided gel-brevier gs-u-mt-\"><li class=\"nw-c-promo-meta\"><span class=\"gs-c-timestamp gs-o-bullet gs-o-bullet- nw-c-timestamp\"><span class=\"gs-o-bullet__icon gel-icon\"><svg focusable=\"false\" viewBox=\"0 0 32 32\"><polygon points=\"17,15.4 17,6 15,6 15,16.6 23.8,21.7 24.8,19.9\"></polygon><path d=\"M16,4c6.6,0,12,5.4,12,12c0,6.6-5.4,12-12,12S4,22.6,4,16C4,9.4,9.4,4,16,4 M16,0C7.2,0,0,7.2,0,16c0,8.8,7.2,16,16,16 s16-7.2,16-16C32,7.2,24.8,0,16,0L16,0z\"></path></svg></span><time class=\"gs-o-bullet__text date qa-status-date\" datetime=\"2021-01-05T22:30:10.000Z\" data-seconds=\"1609885810\" data-datetime=\"6h\"><span aria-hidden=\"true\" class=\"qa-status-date-output\">6<!-- -->h</span><span class=\"gs-u-vh\">6 hours ago</span></time></span></li><li class=\"nw-c-promo-meta\"><a href=\"/news/world/us_and_canada\" class=\"gs-c-section-link gs-c-section-link--truncate nw-c-section-link nw-o-link nw-o-link--no-visited-state\" aria-label=\"From US &amp; Canada\"><span aria-hidden=\"true\">US &amp; Canada</span></a></li></ul></div></div></div></div><div class=\"gel-layout__item gs-u-pb+@m gel-1/3@m gel-1/4@xl gel-1/3@xxl nw-o-keyline nw-o-no-keyline@m\"><div class=\"gs-c-promo gs-t-News nw-c-promo gs-o-faux-block-link gs-u-pb gs-u-pb+@m nw-p-default gs-c-promo--inline gs-c-promo--stacked@m gs-c-promo--flex\"><div class=\"gs-c-promo-image gel-1/2@xs gel-1/1@s gs-u-display-none gs-u-display-block@xs\"><div class=\"gs-o-media-island\"><div class=\"gs-o-responsive-image gs-o-responsive-image--16by9\"><img src=\"https://ichef.bbci.co.uk/news/380/cpsprodpb/BED6/production/_116245884_gettyimages-1175889118.jpg\" class=\"lazyloaded\" alt=\"Cyber attack\" data-src=\"https://ichef.bbci.co.uk/news/{width}/cpsprodpb/BED6/production/_116245884_gettyimages-1175889118.jpg\" width=\"380\"></div></div></div><div class=\"gs-c-promo-body gs-u-mt@xxs gs-u-mt@m gs-c-promo-body--flex gs-u-mt@xs gs-u-mt0@xs gs-u-mt@m gel-1/2@xs gel-1/1@s\"><div><a class=\"gs-c-promo-heading gs-o-faux-block-link__overlay-link gel-pica-bold nw-o-link-split__anchor\" href=\"/news/technology-55554715\"><h3 class=\"gs-c-promo-heading__title gel-pica-bold nw-o-link-split__text\">US intelligence accuses Russia of cyber-hack</h3></a><p class=\"gs-c-promo-summary gel-long-primer gs-u-mt nw-c-promo-summary gs-u-display-none gs-u-display-block@m\">President Trump initially accused China of the hack against US government agencies in December.</p></div><div><ul class=\"gs-o-list-inline gs-o-list-inline--divided gel-brevier gs-u-mt-\"><li class=\"nw-c-promo-meta\"><span class=\"gs-c-timestamp gs-o-bullet gs-o-bullet- nw-c-timestamp\"><span class=\"gs-o-bullet__icon gel-icon\"><svg focusable=\"false\" viewBox=\"0 0 32 32\"><polygon points=\"17,15.4 17,6 15,6 15,16.6 23.8,21.7 24.8,19.9\"></polygon><path d=\"M16,4c6.6,0,12,5.4,12,12c0,6.6-5.4,12-12,12S4,22.6,4,16C4,9.4,9.4,4,16,4 M16,0C7.2,0,0,7.2,0,16c0,8.8,7.2,16,16,16 s16-7.2,16-16C32,7.2,24.8,0,16,0L16,0z\"></path></svg></span><time class=\"gs-o-bullet__text date qa-status-date\" datetime=\"2021-01-05T22:37:10.000Z\" data-seconds=\"1609886230\" data-datetime=\"6h\"><span aria-hidden=\"true\" class=\"qa-status-date-output\">6<!-- -->h</span><span class=\"gs-u-vh\">6 hours ago</span></time></span></li><li class=\"nw-c-promo-meta\"><a href=\"/news/technology\" class=\"gs-c-section-link gs-c-section-link--truncate nw-c-section-link nw-o-link nw-o-link--no-visited-state\" aria-label=\"From Technology\"><span aria-hidden=\"true\">Technology</span></a></li></ul></div></div></div></div><div class=\"gel-layout__item gs-u-pb+@m gel-1/3@m gel-1/4@xl gel-1/3@xxl nw-o-keyline nw-o-no-keyline@m\"><div class=\"gs-c-promo gs-t-News nw-c-promo gs-o-faux-block-link gs-u-pb gs-u-pb+@m nw-p-default gs-c-promo--inline gs-c-promo--stacked@m gs-c-promo--flex\"><div class=\"gs-c-promo-image gel-1/2@xs gel-1/1@s gs-u-display-none gs-u-display-block@xs\"><div class=\"gs-o-media-island\"><div class=\"gs-o-responsive-image gs-o-responsive-image--16by9\"><img src=\"https://ichef.bbci.co.uk/news/380/cpsprodpb/8102/production/_116362033_gettyimages-1229450912.jpg\" class=\"lazyloaded\" alt=\"Alipay sign\" data-src=\"https://ichef.bbci.co.uk/news/{width}/cpsprodpb/8102/production/_116362033_gettyimages-1229450912.jpg\" width=\"380\"></div></div></div><div class=\"gs-c-promo-body gs-u-mt@xxs gs-u-mt@m gs-c-promo-body--flex gs-u-mt@xs gs-u-mt0@xs gs-u-mt@m gel-1/2@xs gel-1/1@s\"><div><a class=\"gs-c-promo-heading gs-o-faux-block-link__overlay-link gel-pica-bold nw-o-link-split__anchor\" href=\"/news/business-55555269\"><h3 class=\"gs-c-promo-heading__title gel-pica-bold nw-o-link-split__text\">Trump bans Alipay and seven other Chinese apps</h3></a><p class=\"gs-c-promo-summary gel-long-primer gs-u-mt nw-c-promo-summary gs-u-display-none gs-u-display-block@m\">The latest executive order by the US president will only take effect after he has left office.</p></div><div><ul class=\"gs-o-list-inline gs-o-list-inline--divided gel-brevier gs-u-mt-\"><li class=\"nw-c-promo-meta\"><span class=\"gs-c-timestamp gs-o-bullet gs-o-bullet- nw-c-timestamp\"><span class=\"gs-o-bullet__icon gel-icon\"><svg focusable=\"false\" viewBox=\"0 0 32 32\"><polygon points=\"17,15.4 17,6 15,6 15,16.6 23.8,21.7 24.8,19.9\"></polygon><path d=\"M16,4c6.6,0,12,5.4,12,12c0,6.6-5.4,12-12,12S4,22.6,4,16C4,9.4,9.4,4,16,4 M16,0C7.2,0,0,7.2,0,16c0,8.8,7.2,16,16,16 s16-7.2,16-16C32,7.2,24.8,0,16,0L16,0z\"></path></svg></span><time class=\"gs-o-bullet__text date qa-status-date\" datetime=\"2021-01-06T02:12:29.000Z\" data-seconds=\"1609899149\" data-datetime=\"2h\"><span aria-hidden=\"true\" class=\"qa-status-date-output\">2<!-- -->h</span><span class=\"gs-u-vh\">2 hours ago</span></time></span></li><li class=\"nw-c-promo-meta\"><a href=\"/news/business\" class=\"gs-c-section-link gs-c-section-link--truncate nw-c-section-link nw-o-link nw-o-link--no-visited-state\" aria-label=\"From Business\"><span aria-hidden=\"true\">Business</span></a></li></ul></div></div></div></div><div class=\"gel-layout__item gs-u-pb+@m gel-1/3@m gel-1/4@xl gel-1/3@xxl nw-o-keyline nw-o-no-keyline@m\"><div class=\"gs-c-promo gs-t-News nw-c-promo gs-o-faux-block-link gs-u-pb gs-u-pb+@m nw-p-default gs-c-promo--inline gs-c-promo--stacked@m gs-c-promo--flex\"><div class=\"gs-c-promo-image gel-1/2@xs gel-1/1@s gs-u-display-none gs-u-display-block@xs\"><div class=\"gs-o-media-island\"><div class=\"gs-o-responsive-image gs-o-responsive-image--16by9\"><img src=\"https://ichef.bbci.co.uk/news/380/cpsprodpb/50EC/production/_116361702_c9c80e2d-6409-4168-a091-14a7fcda2d12.jpg\" class=\"lazyloaded\" alt=\"Palm cockatoo\" data-src=\"https://ichef.bbci.co.uk/news/{width}/cpsprodpb/50EC/production/_116361702_c9c80e2d-6409-4168-a091-14a7fcda2d12.jpg\" width=\"380\"></div><span class=\"gs-c-media-indicator gel-minion gs-o-media-island__icon\" aria-hidden=\"true\"><span class=\"gs-c-media-indicator__icon gel-icon\" data-icon=\"gel-icon-video\"><svg focusable=\"false\" aria-hidden=\"true\" viewBox=\"0 0 32 32\"><polygon points=\"3,32 29,16 3,0\"></polygon></svg></span><span class=\"gs-c-media-indicator__text\"><time class=\"qa-time\" datetime=\"PT3M5S\"><span class=\"qa-onscreen\" aria-hidden=\"true\">3:05</span></time></span></span></div></div><div class=\"gs-c-promo-body gs-u-mt@xxs gs-u-mt@m gs-c-promo-body--flex gs-u-mt@xs gs-u-mt0@xs gs-u-mt@m gel-1/2@xs gel-1/1@s\"><div><a class=\"gs-c-promo-heading gs-o-faux-block-link__overlay-link gel-pica-bold nw-o-link-split__anchor\" href=\"/news/world-australia-55541188\"><span class=\"qa-offscreen gs-u-vh\">Video 3 minutes 5 seconds</span><span class=\"gs-c-media-indicator gel-minion gs-u-align-text-top gs-u-mr gs-u-vh@xs gs-c-media-indicator--inline\" aria-hidden=\"true\"><span class=\"gs-c-media-indicator__icon gel-icon\" data-icon=\"gel-icon-video\"><svg focusable=\"false\" aria-hidden=\"true\" viewBox=\"0 0 32 32\"><polygon points=\"3,32 29,16 3,0\"></polygon></svg></span></span><h3 class=\"gs-c-promo-heading__title gel-pica-bold nw-o-link-split__text\">Why the unique ‘drumming’ bird is in peril</h3></a><p class=\"gs-c-promo-summary gel-long-primer gs-u-mt nw-c-promo-summary gs-u-display-none gs-u-display-block@m\">The palm cockatoo is thought to be the only bird to use tools musically to attract a mate.</p></div><div><ul class=\"gs-o-list-inline gs-o-list-inline--divided gel-brevier gs-u-mt-\"><li class=\"nw-c-promo-meta\"><span class=\"gs-c-timestamp gs-o-bullet gs-o-bullet- nw-c-timestamp\"><span class=\"gs-o-bullet__icon gel-icon\"><svg focusable=\"false\" viewBox=\"0 0 32 32\"><polygon points=\"17,15.4 17,6 15,6 15,16.6 23.8,21.7 24.8,19.9\"></polygon><path d=\"M16,4c6.6,0,12,5.4,12,12c0,6.6-5.4,12-12,12S4,22.6,4,16C4,9.4,9.4,4,16,4 M16,0C7.2,0,0,7.2,0,16c0,8.8,7.2,16,16,16 s16-7.2,16-16C32,7.2,24.8,0,16,0L16,0z\"></path></svg></span><time class=\"gs-o-bullet__text date qa-status-date\" datetime=\"2021-01-06T00:05:14.000Z\" data-seconds=\"1609891514\" data-datetime=\"4h\"><span aria-hidden=\"true\" class=\"qa-status-date-output\">4<!-- -->h</span><span class=\"gs-u-vh\">4 hours ago</span></time></span></li><li class=\"nw-c-promo-meta\"><a href=\"/news/world/australia\" class=\"gs-c-section-link gs-c-section-link--truncate nw-c-section-link nw-o-link nw-o-link--no-visited-state\" aria-label=\"From Australia\"><span aria-hidden=\"true\">Australia</span></a></li></ul></div></div></div></div><div class=\"gel-layout__item gs-u-pb+@m gel-1/3@m gel-1/4@xl gel-1/3@xxl nw-o-keyline nw-o-no-keyline@m\"><div class=\"gs-c-promo gs-t-News nw-c-promo gs-o-faux-block-link gs-u-pb gs-u-pb+@m nw-p-default gs-c-promo--inline gs-c-promo--stacked@m gs-c-promo--flex\"><div class=\"gs-c-promo-image gel-1/2@xs gel-1/1@s gs-u-display-none gs-u-display-block@xs\"><div class=\"gs-o-media-island\"><div class=\"gs-o-responsive-image gs-o-responsive-image--16by9\"><img src=\"https://ichef.bbci.co.uk/news/380/cpsprodpb/1212A/production/_116362047_gettyimages-1052167270.jpg\" class=\"lazyloaded\" alt=\"Lai Xiaomin\" data-src=\"https://ichef.bbci.co.uk/news/{width}/cpsprodpb/1212A/production/_116362047_gettyimages-1052167270.jpg\" width=\"380\"></div></div></div><div class=\"gs-c-promo-body gs-u-mt@xxs gs-u-mt@m gs-c-promo-body--flex gs-u-mt@xs gs-u-mt0@xs gs-u-mt@m gel-1/2@xs gel-1/1@s\"><div><a class=\"gs-c-promo-heading gs-o-faux-block-link__overlay-link gel-pica-bold nw-o-link-split__anchor\" href=\"/news/business-55555417\"><h3 class=\"gs-c-promo-heading__title gel-pica-bold nw-o-link-split__text\">Criticism of death sentence on former China tycoon</h3></a><p class=\"gs-c-promo-summary gel-long-primer gs-u-mt nw-c-promo-summary gs-u-display-none gs-u-display-block@m\">The harsh penalty for a former finance chief is a \"major step backwards\" says human rights activists.</p></div><div><ul class=\"gs-o-list-inline gs-o-list-inline--divided gel-brevier gs-u-mt-\"><li class=\"nw-c-promo-meta\"><span class=\"gs-c-timestamp gs-o-bullet gs-o-bullet- nw-c-timestamp\"><span class=\"gs-o-bullet__icon gel-icon\"><svg focusable=\"false\" viewBox=\"0 0 32 32\"><polygon points=\"17,15.4 17,6 15,6 15,16.6 23.8,21.7 24.8,19.9\"></polygon><path d=\"M16,4c6.6,0,12,5.4,12,12c0,6.6-5.4,12-12,12S4,22.6,4,16C4,9.4,9.4,4,16,4 M16,0C7.2,0,0,7.2,0,16c0,8.8,7.2,16,16,16 s16-7.2,16-16C32,7.2,24.8,0,16,0L16,0z\"></path></svg></span><time class=\"gs-o-bullet__text date qa-status-date\" datetime=\"2021-01-06T04:10:46.000Z\" data-seconds=\"1609906246\" data-datetime=\"19m\"><span aria-hidden=\"true\" class=\"qa-status-date-output\">19<!-- -->m</span><span class=\"gs-u-vh\">19 minutes ago</span></time></span></li><li class=\"nw-c-promo-meta\"><a href=\"/news/business\" class=\"gs-c-section-link gs-c-section-link--truncate nw-c-section-link nw-o-link nw-o-link--no-visited-state\" aria-label=\"From Business\"><span aria-hidden=\"true\">Business</span></a></li></ul></div></div></div></div></div>"
   ]
  },
  {
   "cell_type": "code",
   "execution_count": null,
   "metadata": {},
   "outputs": [],
   "source": []
  },
  {
   "cell_type": "code",
   "execution_count": null,
   "metadata": {},
   "outputs": [],
   "source": [
    "other_headlines = soup.find(attrs={\"class\": \n",
    "                                   \"gel-layout gel-layout--equal\"})\n",
    "print(len(other_headlines))\n",
    "print(len(other_headlines.find_all('div')))"
   ]
  },
  {
   "cell_type": "markdown",
   "metadata": {},
   "source": [
    "\n",
    "First headline\n",
    "<a class=\"gs-c-promo-heading gs-o-faux-block-link__overlay-link gel-pica-bold nw-o-link-split__anchor\" href=\"/news/world-asia-china-55555299\"><h3 class=\"gs-c-promo-heading__title gel-pica-bold nw-o-link-split__text\">Mass arrests among Hong Kong pro-democracy camp</h3></a>\n",
    "\n",
    "\n",
    "First summary\n",
    "<p class=\"gs-c-promo-summary gel-long-primer gs-u-mt nw-c-promo-summary gs-u-display-none gs-u-display-block@m\">The arrests of around 50 people appear linked to a primary the opposition held ahead of elections.</p>"
   ]
  },
  {
   "cell_type": "code",
   "execution_count": null,
   "metadata": {},
   "outputs": [],
   "source": [
    "headline1 = other_headlines.find(attrs={\"class\": \"gs-c-promo-heading gs-o-faux-block-link__overlay-link gel-pica-bold nw-o-link-split__anchor\"}).get_text()"
   ]
  },
  {
   "cell_type": "code",
   "execution_count": null,
   "metadata": {},
   "outputs": [],
   "source": []
  },
  {
   "cell_type": "markdown",
   "metadata": {},
   "source": [
    "Second headline\n",
    "<a class=\"gs-c-promo-heading gs-o-faux-block-link__overlay-link gel-pica-bold nw-o-link-split__anchor\" href=\"/news/world-us-canada-55554558\"><h3 class=\"gs-c-promo-heading__title gel-pica-bold nw-o-link-split__text\">No police officers charged in Jacob Blake shooting</h3></a>\n",
    "\n",
    "\n",
    "Second summary\n",
    "<p class=\"gs-c-promo-summary gel-long-primer gs-u-mt nw-c-promo-summary gs-u-display-none gs-u-display-block@m\">Wisconsin's district attorney says no-one will face charges over the shooting of the black man in August.</p>\n"
   ]
  },
  {
   "cell_type": "markdown",
   "metadata": {},
   "source": [
    "I think they use the same tags - let's try"
   ]
  },
  {
   "cell_type": "code",
   "execution_count": null,
   "metadata": {},
   "outputs": [],
   "source": [
    "headline_blocks = other_headlines.find_all(attrs={\"class\": \n",
    "                                                  \"gs-c-promo-heading gs-o-faux-block-link__overlay-link gel-pica-bold nw-o-link-split__anchor\"})\n",
    "# summary_blocks = other_headlines.find_all(attrs={\"class\": \n",
    "#                                                 \"gs-c-promo-summary gel-long-primer gs-u-mt nw-c-promo-summary gs-u-display-none gs-u-display-block@m\"}\n",
    "summary_blocks = other_headlines.find_all('p')    \n",
    "# using this method, we also get the summary of main headline - need to remove it\n",
    "summary_blocks.pop(0)\n",
    "print(f'headline blocks length: {len(headline_blocks)}')\n",
    "print(f'summary blocks length: {len(summary_blocks)}')\n",
    "\n"
   ]
  },
  {
   "cell_type": "markdown",
   "metadata": {},
   "source": [
    "Print headline"
   ]
  },
  {
   "cell_type": "code",
   "execution_count": null,
   "metadata": {},
   "outputs": [],
   "source": [
    "headline_blocks[0].get_text()"
   ]
  },
  {
   "cell_type": "code",
   "execution_count": null,
   "metadata": {},
   "outputs": [],
   "source": [
    "Print link"
   ]
  },
  {
   "cell_type": "code",
   "execution_count": null,
   "metadata": {},
   "outputs": [],
   "source": [
    "headline_blocks[0]['href']"
   ]
  },
  {
   "cell_type": "code",
   "execution_count": null,
   "metadata": {},
   "outputs": [],
   "source": [
    "Print summary"
   ]
  },
  {
   "cell_type": "code",
   "execution_count": null,
   "metadata": {},
   "outputs": [],
   "source": [
    "summary_blocks[0].get_text()"
   ]
  },
  {
   "cell_type": "code",
   "execution_count": null,
   "metadata": {},
   "outputs": [],
   "source": []
  },
  {
   "cell_type": "code",
   "execution_count": null,
   "metadata": {},
   "outputs": [],
   "source": []
  }
 ],
 "metadata": {
  "kernelspec": {
   "display_name": "Python 3",
   "language": "python",
   "name": "python3"
  },
  "language_info": {
   "codemirror_mode": {
    "name": "ipython",
    "version": 3
   },
   "file_extension": ".py",
   "mimetype": "text/x-python",
   "name": "python",
   "nbconvert_exporter": "python",
   "pygments_lexer": "ipython3",
   "version": "3.8.3"
  }
 },
 "nbformat": 4,
 "nbformat_minor": 4
}
