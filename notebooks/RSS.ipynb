{
 "cells": [
  {
   "cell_type": "markdown",
   "metadata": {},
   "source": [
    "# parse BKK post top stories RSS feed"
   ]
  },
  {
   "cell_type": "code",
   "execution_count": 4,
   "metadata": {},
   "outputs": [],
   "source": [
    "#import libraries\n",
    "import os, sys\n",
    "import json\n",
    "import pandas as pd\n",
    "# import geopandas as gpd\n",
    "import numpy as np\n",
    "from numpy import int64\n",
    "import requests, io\n",
    "import urllib.request\n",
    "from bs4 import BeautifulSoup\n",
    "import matplotlib.pyplot as plt\n",
    "import logging\n",
    "import xml.etree.ElementTree as ET\n",
    "sys.path.append('..')\n",
    "from util.rss import RSSParser\n",
    "\n",
    "\n",
    "logging.basicConfig(level=logging.DEBUG)"
   ]
  },
  {
   "cell_type": "code",
   "execution_count": null,
   "metadata": {},
   "outputs": [],
   "source": [
    "# get homepage\n",
    "url = 'https://www.bangkokpost.com/rss/data/topstories.xml'\n",
    "response = requests.get(url)\n",
    "data = response.content.decode('utf-8')\n",
    "# soup = BeautifulSoup(response.text, 'lxml')\n",
    "\n",
    "root = ET.fromstring(data)"
   ]
  },
  {
   "cell_type": "code",
   "execution_count": null,
   "metadata": {},
   "outputs": [],
   "source": [
    "root.tag"
   ]
  },
  {
   "cell_type": "code",
   "execution_count": null,
   "metadata": {},
   "outputs": [],
   "source": [
    "root.attrib"
   ]
  },
  {
   "cell_type": "code",
   "execution_count": null,
   "metadata": {},
   "outputs": [],
   "source": [
    "for child in root:\n",
    "    print(f'tag: {child.tag}, attrib: {child.attrib}')\n"
   ]
  },
  {
   "cell_type": "code",
   "execution_count": null,
   "metadata": {},
   "outputs": [],
   "source": [
    "for item in root[0].findall('item'):\n",
    "#     print(f'tag: {a.tag}, attrib: {a.attrib}')\n",
    "    print(item.find('title').text)\n",
    "    print(item.find('link').text)\n",
    "    print(item.find('description').text)"
   ]
  },
  {
   "cell_type": "markdown",
   "metadata": {},
   "source": [
    "# BBC World News"
   ]
  },
  {
   "cell_type": "code",
   "execution_count": null,
   "metadata": {},
   "outputs": [],
   "source": [
    "url = 'http://feeds.bbci.co.uk/news/video_and_audio/world/rss.xml'\n",
    "response = requests.get(url)\n",
    "data = response.content.decode('utf-8')\n",
    "# soup = BeautifulSoup(response.text, 'lxml')\n",
    "\n",
    "root_bbc_world = ET.fromstring(data)"
   ]
  },
  {
   "cell_type": "code",
   "execution_count": null,
   "metadata": {},
   "outputs": [],
   "source": [
    "for item in root_bbc_world[0].findall('item'):\n",
    "#     print(f'tag: {a.tag}, attrib: {a.attrib}')\n",
    "    print(item.find('title').text)\n",
    "    print(item.find('description').text)\n",
    "    print(item.find('link').text)\n"
   ]
  },
  {
   "cell_type": "code",
   "execution_count": null,
   "metadata": {},
   "outputs": [],
   "source": []
  },
  {
   "cell_type": "code",
   "execution_count": 3,
   "metadata": {},
   "outputs": [],
   "source": [
    "sys.path.append('..')\n",
    "from util.rss import RSSParser"
   ]
  },
  {
   "cell_type": "code",
   "execution_count": null,
   "metadata": {},
   "outputs": [],
   "source": [
    "# NYT home page\n",
    "parser = RSSParser(\n",
    "\"NYT\",\n",
    "\"https://rss.nytimes.com/services/xml/rss/nyt/HomePage.xml\",\n",
    "\"nytimes.com\")\n",
    "\n",
    "articles = parser.get()\n",
    "articles"
   ]
  },
  {
   "cell_type": "code",
   "execution_count": null,
   "metadata": {},
   "outputs": [],
   "source": [
    "# SFGate Bay Area News\n",
    "parser = RSSParser(\n",
    "\"SFGate\",\n",
    "\"https://www.sfgate.com/bayarea/feed/Bay-Area-News-429.php\",\n",
    "\"sfgate.com\")\n",
    "\n",
    "parser.get()"
   ]
  },
  {
   "cell_type": "code",
   "execution_count": null,
   "metadata": {},
   "outputs": [],
   "source": []
  },
  {
   "cell_type": "code",
   "execution_count": 8,
   "metadata": {},
   "outputs": [
    {
     "name": "stderr",
     "output_type": "stream",
     "text": [
      "DEBUG:urllib3.connectionpool:Starting new HTTP connection (1): feeds.feedburner.com:80\n",
      "DEBUG:urllib3.connectionpool:http://feeds.feedburner.com:80 \"GET /Techcrunch HTTP/1.1\" 200 None\n",
      "DEBUG:util.rss:Article:\n",
      "\\source: TC\n",
      "\theadline: Too Good To Go raises $31 million to fight food waste\n",
      "\tsummary: Too Good To Go, the startup that lets you buy food right before it goes to waste, is raising a $31.1 million round. blisce/ is leading the round and investing $15.4 million as part of today’s round. Existing investors and employees are also participating. While the company has been around for a while, this is [&#8230;]\n",
      "\tdomain:  techcrunch.com\n",
      "\tlink: https://techcrunch.com/2021/01/07/too-good-to-go-raises-31-million-to-fight-food-waste/#respond\n",
      "DEBUG:util.rss:Article:\n",
      "\\source: TC\n",
      "\theadline: Pennylane raises $18.4 million for its accounting service\n",
      "\tsummary: French startup Pennylane has raised $18.4 million (€15 million) for its accounting service that combines automated processes with human accountants. Existing investors Global Founders Capital and Partech are investing once again. Pennylane is both a software-as-a-service company that helps you deal with your financial data and an accounting firm. By working with accountants directly, it [&#8230;]\n",
      "\tdomain:  techcrunch.com\n",
      "\tlink: https://techcrunch.com/2021/01/07/pennylane-raises-18-4-million-for-its-accounting-service/#respond\n",
      "DEBUG:util.rss:Article:\n",
      "\\source: TC\n",
      "\theadline: IPRally is building a knowledge graph-based search engine for patents\n",
      "\tsummary: IPRally, a burgeoning startup out of Finland aiming to solve the patent search problem, has raised €2 million in seed funding. Leading the round is by JOIN Capital, and Spintop Ventures, with participation from existing pre-seed backer Icebreaker VC. It brings the total raised by the 2018-founded company to €2.35 million. Co-founded by CEO Sakari [&#8230;]\n",
      "\tdomain:  techcrunch.com\n",
      "\tlink: https://techcrunch.com/2021/01/07/iprally/#respond\n",
      "DEBUG:util.rss:Article:\n",
      "\\source: TC\n",
      "\theadline: Snapchat locks President Donald Trump’s account\n",
      "\tsummary: Snapchat locked President Donald Trump’s account after pro-Trump rioters stormed the United States Capitol. A Snap spokesperson confirmed to TechCrunch that the action was taken on Wednesday and added that the company will monitor the situation closely before re-evaluating its decision. This is not the first time Snap has taken action against Trump’s account over [&#8230;]\n",
      "\tdomain:  techcrunch.com\n",
      "\tlink: https://techcrunch.com/2021/01/06/snapchat-locks-president-donald-trumps-account/#respond\n",
      "DEBUG:util.rss:Article:\n",
      "\\source: TC\n",
      "\theadline: State Department reportedly orders diplomats to stop posting on social media after U.S. Capitol riots\n",
      "\tsummary: The State Department ordered diplomats to stop posting on social media after pro-Trump rioters stormed the United States Capitol, reports CNN, citing three diplomatic sources. Diplomats overseas were also told by the under secretary for public affairs to remove scheduled content for Facebook, Hootsuite and Twitter until told otherwise, and that planned social media posts [&#8230;]\n",
      "\tdomain:  techcrunch.com\n",
      "\tlink: https://techcrunch.com/2021/01/06/state-department-reportedly-orders-diplomats-to-stop-posting-on-social-media-after-u-s-capitol-riots/#respond\n",
      "DEBUG:util.rss:Article:\n",
      "\\source: TC\n",
      "\theadline: VCs dispense with niceties during Capitol riots: “Never talk to me again”\n",
      "\tsummary: It was hard not to feel emotional today, as the world watched for more than four hours as rioters stormed into and throughout the Capitol building in Washington to disrupt the certification of the election win of incoming U.S. President-Elect Joe Biden. They&#8217;d been encouraged earlier in the afternoon by outgoing President Donald Trump to [&#8230;]\n",
      "\tdomain:  techcrunch.com\n",
      "\tlink: https://techcrunch.com/2021/01/06/vcs-dispense-with-political-niceties-during-capitol-riots-never-talk-to-me-again/#respond\n",
      "DEBUG:util.rss:Article:\n",
      "\\source: TC\n",
      "\theadline: California vegan egg startup Eat Just yokes itself to China’s fast food chain\n",
      "\tsummary: Eat Just, a food startup from San Francisco making chicken-less eggs, has ambitions to crack the Chinese market where consumer appetite for plant-based food is growing and other Western vegan substitute brands like Beyond became available in recent quarters. The startup said this week it will be suppling to fast-food chain Dicos, a local rival [&#8230;]\n",
      "\tdomain:  techcrunch.com\n",
      "\tlink: https://techcrunch.com/2021/01/06/eat-just-china-dicos/#respond\n",
      "DEBUG:util.rss:Article:\n",
      "\\source: TC\n",
      "\theadline: Facebook and Instagram block #StormTheCapitol, lock Trump out of posting for 24 hours\n",
      "\tsummary: After removing a video in which President Trump praised a violent group of his supporters who broke into the U.S. Capitol building, Facebook is rolling out a new set of rules in response to the day&#8217;s shocking events. Both Facebook and Instagram also announced that the president would be locked out of posting to his [&#8230;]\n",
      "\tdomain:  techcrunch.com\n",
      "\tlink: https://techcrunch.com/2021/01/06/facebook-stormthecapitol-hashtag-dangerous-organizations-policy/#respond\n",
      "DEBUG:util.rss:Article:\n",
      "\\source: TC\n",
      "\theadline: Social media allowed a shocked nation to watch a coup attempt in real time\n",
      "\tsummary: Today&#8217;s historic and terrifying coup attempt by pro-Trump extremists in Washington, D.C. played out live the same way it was fomented — on social media. Once again Twitter, streaming sites and other user-generated media were the only place to learn what was happening in the nation&#8217;s capital — and the best place to be misled [&#8230;]\n",
      "\tdomain:  techcrunch.com\n",
      "\tlink: https://techcrunch.com/2021/01/06/social-media-allowed-a-shocked-nation-watch-a-coup-attempt-in-real-time/#respond\n",
      "DEBUG:util.rss:Article:\n",
      "\\source: TC\n",
      "\theadline: Tech leaders speak out about platforms’ roles in US Capitol riots\n",
      "\tsummary: After pro-Trump extremists violently stormed the U.S. Capitol, a number of tech executives and industry leaders are calling on Twitter CEO Jack Dorsey and Facebook CEO Mark Zuckerberg to more aggressively curb the president&#8217;s messages amplifying and endorsing violence. After Trump released a video calling the extremists &#8220;very special&#8221; and telling them to go home, [&#8230;]\n",
      "\tdomain:  techcrunch.com\n",
      "\tlink: https://techcrunch.com/2021/01/06/tech-leaders-speak-out-about-platforms-roles-in-us-capitol-riots/#respond\n"
     ]
    },
    {
     "data": {
      "text/plain": [
       "10"
      ]
     },
     "execution_count": 8,
     "metadata": {},
     "output_type": "execute_result"
    }
   ],
   "source": [
    "import imp\n",
    "import util.rss as rss\n",
    "imp.reload(rss)\n",
    "\n",
    "parser = rss.RSSParser(\"TC\",\n",
    "                  \"http://feeds.feedburner.com/Techcrunch\",\n",
    "                  \"techcrunch.com\",\n",
    "                  link_field = 'comments')\n",
    "articles = parser.get()\n",
    "len(articles)"
   ]
  },
  {
   "cell_type": "code",
   "execution_count": null,
   "metadata": {},
   "outputs": [],
   "source": []
  },
  {
   "cell_type": "code",
   "execution_count": 26,
   "metadata": {},
   "outputs": [
    {
     "name": "stderr",
     "output_type": "stream",
     "text": [
      "DEBUG:urllib3.connectionpool:Starting new HTTPS connection (1): www.yahoo.com:443\n",
      "DEBUG:urllib3.connectionpool:https://www.yahoo.com:443 \"GET /news/rss HTTP/1.1\" 200 33193\n",
      "DEBUG:util.rss:headline: <Element 'title' at 0x7fd04fddab30>\n",
      "DEBUG:util.rss:link: <Element 'link' at 0x7fd04fddab80>\n",
      "DEBUG:util.rss:Article:\n",
      "\\source: YHOO\n",
      "\theadline: Capitol riot was false-flag operation by leftists, Trump backers claim, with no basis\n",
      "\tsummary: None\n",
      "\tdomain:  news.yahoo.com\n",
      "\tlink: https://news.yahoo.com/capitol-riot-was-falseflag-operation-by-leftists-trump-backers-claim-with-no-basis-051703320.html\n",
      "DEBUG:util.rss:headline: <Element 'title' at 0x7fd04fddaf40>\n",
      "DEBUG:util.rss:link: <Element 'link' at 0x7fd04fddaf90>\n",
      "DEBUG:util.rss:Article:\n",
      "\\source: YHOO\n",
      "\theadline: Attorney of woman who falsely accused Black teen of phone theft speaks out\n",
      "\tsummary: None\n",
      "\tdomain:  news.yahoo.com\n",
      "\tlink: https://news.yahoo.com/attorney-woman-falsely-accused-black-195813201.html\n",
      "DEBUG:util.rss:headline: <Element 'title' at 0x7fd04fdd8310>\n",
      "DEBUG:util.rss:link: <Element 'link' at 0x7fd04fdd8360>\n",
      "DEBUG:util.rss:Article:\n",
      "\\source: YHOO\n",
      "\theadline: Rudy Giuliani says pro-Trump rioters attacking US Capitol building are ‘on the right side of history’\n",
      "\tsummary: None\n",
      "\tdomain:  news.yahoo.com\n",
      "\tlink: https://news.yahoo.com/rudy-giuliani-says-pro-trump-205320262.html\n",
      "DEBUG:util.rss:headline: <Element 'title' at 0x7fd04fdd8680>\n",
      "DEBUG:util.rss:link: <Element 'link' at 0x7fd04fdd86d0>\n",
      "DEBUG:util.rss:Article:\n",
      "\\source: YHOO\n",
      "\theadline: Former White House communications director Alyssa Farah: 'The election was NOT stolen. We lost.'\n",
      "\tsummary: None\n",
      "\tdomain:  news.yahoo.com\n",
      "\tlink: https://news.yahoo.com/former-white-house-communications-director-225600755.html\n",
      "DEBUG:util.rss:headline: <Element 'title' at 0x7fd04fdd89f0>\n",
      "DEBUG:util.rss:link: <Element 'link' at 0x7fd04fdd8a40>\n",
      "DEBUG:util.rss:Article:\n",
      "\\source: YHOO\n",
      "\theadline: What does ‘Status Not Available’ mean on stimulus tracking site? Here’s what IRS says\n",
      "\tsummary: None\n",
      "\tdomain:  news.yahoo.com\n",
      "\tlink: https://news.yahoo.com/does-status-not-available-mean-214930294.html\n",
      "DEBUG:util.rss:headline: <Element 'title' at 0x7fd04fdd8d60>\n",
      "DEBUG:util.rss:link: <Element 'link' at 0x7fd04fdd8db0>\n",
      "DEBUG:util.rss:Article:\n",
      "\\source: YHOO\n",
      "\theadline: Trump lawyer Giuliani was pushing senators to block Biden victory even after riots began, misdialed voicemail reveals\n",
      "\tsummary: None\n",
      "\tdomain:  news.yahoo.com\n",
      "\tlink: https://news.yahoo.com/trump-lawyer-giuliani-pushing-senators-080532965.html\n",
      "DEBUG:util.rss:headline: <Element 'title' at 0x7fd04ff6e130>\n",
      "DEBUG:util.rss:link: <Element 'link' at 0x7fd04ff6e180>\n",
      "DEBUG:util.rss:Article:\n",
      "\\source: YHOO\n",
      "\theadline: Pro-Trump rioters cleared from U.S. Capitol\n",
      "\tsummary: None\n",
      "\tdomain:  news.yahoo.com\n",
      "\tlink: https://news.yahoo.com/pro-trump-rioters-cleared-u-013524528.html\n",
      "DEBUG:util.rss:headline: <Element 'title' at 0x7fd04ff6e4f0>\n",
      "DEBUG:util.rss:link: <Element 'link' at 0x7fd04ff6e540>\n",
      "DEBUG:util.rss:Article:\n",
      "\\source: YHOO\n",
      "\theadline: Trump has reportedly been 'ranting about Pence,' who could still effectively fire him\n",
      "\tsummary: None\n",
      "\tdomain:  news.yahoo.com\n",
      "\tlink: https://news.yahoo.com/trump-reportedly-ranting-pence-could-061500842.html\n",
      "DEBUG:util.rss:headline: <Element 'title' at 0x7fd04ff6e860>\n",
      "DEBUG:util.rss:link: <Element 'link' at 0x7fd04ff6e8b0>\n",
      "DEBUG:util.rss:Article:\n",
      "\\source: YHOO\n",
      "\theadline: EXPLAINER: Hong Kong mass arrests chill democracy movement\n",
      "\tsummary: None\n",
      "\tdomain:  news.yahoo.com\n",
      "\tlink: https://news.yahoo.com/explainer-hong-kong-mass-arrests-083705922.html\n",
      "DEBUG:util.rss:headline: <Element 'title' at 0x7fd04ff6ec20>\n",
      "DEBUG:util.rss:link: <Element 'link' at 0x7fd04ff6ec70>\n",
      "DEBUG:util.rss:Article:\n",
      "\\source: YHOO\n",
      "\theadline: Family Demands Justice in Death of Filipina Flight Attendant\n",
      "\tsummary: None\n",
      "\tdomain:  news.yahoo.com\n",
      "\tlink: https://news.yahoo.com/family-demands-justice-brutal-assault-224704738.html\n"
     ]
    },
    {
     "data": {
      "text/plain": [
       "10"
      ]
     },
     "execution_count": 26,
     "metadata": {},
     "output_type": "execute_result"
    }
   ],
   "source": [
    "# yahoo\n",
    "imp.reload(rss)\n",
    "\n",
    "parser = rss.RSSParser(\"YHOO\",\n",
    "                  \"https://www.yahoo.com/news/rss\",\n",
    "                  \"news.yahoo.com\")\n",
    "articles = parser.get()\n",
    "len(articles)"
   ]
  },
  {
   "cell_type": "code",
   "execution_count": 12,
   "metadata": {},
   "outputs": [
    {
     "name": "stderr",
     "output_type": "stream",
     "text": [
      "DEBUG:urllib3.connectionpool:Starting new HTTPS connection (1): www.yahoo.com:443\n",
      "DEBUG:urllib3.connectionpool:https://www.yahoo.com:443 \"GET /news/rss HTTP/1.1\" 200 33194\n"
     ]
    }
   ],
   "source": [
    "response = requests.get(\"https://www.yahoo.com/news/rss\")\n",
    "data = response.content.decode('utf-8')\n",
    "root = ET.fromstring(data)"
   ]
  },
  {
   "cell_type": "code",
   "execution_count": 23,
   "metadata": {},
   "outputs": [
    {
     "data": {
      "text/plain": [
       "True"
      ]
     },
     "execution_count": 23,
     "metadata": {},
     "output_type": "execute_result"
    }
   ],
   "source": [
    "items = root[0].findall('item')\n",
    "desc = items[0].find('description')\n",
    "desc is None"
   ]
  },
  {
   "cell_type": "code",
   "execution_count": 27,
   "metadata": {},
   "outputs": [
    {
     "name": "stderr",
     "output_type": "stream",
     "text": [
      "DEBUG:urllib3.connectionpool:Starting new HTTPS connection (1): www.independent.co.uk:443\n",
      "DEBUG:urllib3.connectionpool:https://www.independent.co.uk:443 \"GET /news/world/rss HTTP/1.1\" 404 422\n"
     ]
    },
    {
     "ename": "ParseError",
     "evalue": "XML or text declaration not at start of entity: line 2, column 0 (<string>)",
     "output_type": "error",
     "traceback": [
      "Traceback \u001b[0;36m(most recent call last)\u001b[0m:\n",
      "  File \u001b[1;32m\"/opt/anaconda3/lib/python3.8/site-packages/IPython/core/interactiveshell.py\"\u001b[0m, line \u001b[1;32m3343\u001b[0m, in \u001b[1;35mrun_code\u001b[0m\n    exec(code_obj, self.user_global_ns, self.user_ns)\n",
      "  File \u001b[1;32m\"<ipython-input-27-ce386fefcba9>\"\u001b[0m, line \u001b[1;32m9\u001b[0m, in \u001b[1;35m<module>\u001b[0m\n    articles = parser.get()\n",
      "  File \u001b[1;32m\"../util/rss.py\"\u001b[0m, line \u001b[1;32m84\u001b[0m, in \u001b[1;35mget\u001b[0m\n    self.root = ET.fromstring(data)\n",
      "\u001b[0;36m  File \u001b[0;32m\"/opt/anaconda3/lib/python3.8/xml/etree/ElementTree.py\"\u001b[0;36m, line \u001b[0;32m1320\u001b[0;36m, in \u001b[0;35mXML\u001b[0;36m\u001b[0m\n\u001b[0;31m    parser.feed(text)\u001b[0m\n",
      "\u001b[0;36m  File \u001b[0;32m\"<string>\"\u001b[0;36m, line \u001b[0;32munknown\u001b[0m\n\u001b[0;31mParseError\u001b[0m\u001b[0;31m:\u001b[0m XML or text declaration not at start of entity: line 2, column 0\n"
     ]
    }
   ],
   "source": [
    "# The independent\n",
    "\n",
    "imp.reload(rss)\n",
    "\n",
    "parser = rss.RSSParser(\"IND\",\n",
    "                  \"https://www.independent.co.uk/news/world/rss\",\n",
    "                  \"independent.co.uk\")\n",
    "articles = parser.get()\n",
    "len(articles)"
   ]
  },
  {
   "cell_type": "code",
   "execution_count": 32,
   "metadata": {},
   "outputs": [
    {
     "name": "stderr",
     "output_type": "stream",
     "text": [
      "DEBUG:urllib3.connectionpool:Starting new HTTPS connection (1): www.independent.co.uk:443\n",
      "DEBUG:urllib3.connectionpool:https://www.independent.co.uk:443 \"GET /news/world/rss HTTP/1.1\" 404 422\n"
     ]
    },
    {
     "ename": "ParseError",
     "evalue": "mismatched tag: line 15, column 4 (<string>)",
     "output_type": "error",
     "traceback": [
      "Traceback \u001b[0;36m(most recent call last)\u001b[0m:\n",
      "  File \u001b[1;32m\"/opt/anaconda3/lib/python3.8/site-packages/IPython/core/interactiveshell.py\"\u001b[0m, line \u001b[1;32m3343\u001b[0m, in \u001b[1;35mrun_code\u001b[0m\n    exec(code_obj, self.user_global_ns, self.user_ns)\n",
      "  File \u001b[1;32m\"<ipython-input-32-7225c65f1580>\"\u001b[0m, line \u001b[1;32m3\u001b[0m, in \u001b[1;35m<module>\u001b[0m\n    root = ET.fromstring(data)\n",
      "\u001b[0;36m  File \u001b[0;32m\"/opt/anaconda3/lib/python3.8/xml/etree/ElementTree.py\"\u001b[0;36m, line \u001b[0;32m1320\u001b[0;36m, in \u001b[0;35mXML\u001b[0;36m\u001b[0m\n\u001b[0;31m    parser.feed(text)\u001b[0m\n",
      "\u001b[0;36m  File \u001b[0;32m\"<string>\"\u001b[0;36m, line \u001b[0;32munknown\u001b[0m\n\u001b[0;31mParseError\u001b[0m\u001b[0;31m:\u001b[0m mismatched tag: line 15, column 4\n"
     ]
    }
   ],
   "source": [
    "response = requests.get(\"https://www.independent.co.uk/news/world/rss\")\n",
    "data = response.content.decode('utf-8').strip()\n",
    "root = ET.fromstring(data)"
   ]
  },
  {
   "cell_type": "code",
   "execution_count": 36,
   "metadata": {},
   "outputs": [
    {
     "name": "stderr",
     "output_type": "stream",
     "text": [
      "DEBUG:urllib3.connectionpool:Starting new HTTPS connection (1): www.independent.co.uk:443\n",
      "DEBUG:urllib3.connectionpool:https://www.independent.co.uk:443 \"GET /news/world/rss HTTP/1.1\" 404 421\n"
     ]
    },
    {
     "data": {
      "text/plain": [
       "<Response [404]>"
      ]
     },
     "execution_count": 36,
     "metadata": {},
     "output_type": "execute_result"
    }
   ],
   "source": [
    "response = requests.get(\"https://www.independent.co.uk/news/world/rss\")\n",
    "response"
   ]
  },
  {
   "cell_type": "code",
   "execution_count": null,
   "metadata": {},
   "outputs": [],
   "source": []
  },
  {
   "cell_type": "code",
   "execution_count": 38,
   "metadata": {},
   "outputs": [
    {
     "name": "stderr",
     "output_type": "stream",
     "text": [
      "DEBUG:urllib3.connectionpool:Starting new HTTPS connection (1): martinfowler.com:443\n",
      "DEBUG:urllib3.connectionpool:https://martinfowler.com:443 \"GET /feed.atom HTTP/1.1\" 200 41221\n"
     ]
    }
   ],
   "source": [
    "\n",
    "parser = rss.RSSParser(\"MF\",\n",
    "                  \"https://martinfowler.com/feed.atom\",\n",
    "                  \"martinfowler.com\")\n",
    "articles = parser.get()\n",
    "len(articles"
   ]
  },
  {
   "cell_type": "code",
   "execution_count": 39,
   "metadata": {},
   "outputs": [
    {
     "data": {
      "text/plain": [
       "0"
      ]
     },
     "execution_count": 39,
     "metadata": {},
     "output_type": "execute_result"
    }
   ],
   "source": [
    "len(articles)"
   ]
  },
  {
   "cell_type": "code",
   "execution_count": null,
   "metadata": {},
   "outputs": [],
   "source": []
  },
  {
   "cell_type": "code",
   "execution_count": null,
   "metadata": {},
   "outputs": [],
   "source": []
  },
  {
   "cell_type": "code",
   "execution_count": null,
   "metadata": {},
   "outputs": [],
   "source": []
  }
 ],
 "metadata": {
  "kernelspec": {
   "display_name": "Python 3",
   "language": "python",
   "name": "python3"
  },
  "language_info": {
   "codemirror_mode": {
    "name": "ipython",
    "version": 3
   },
   "file_extension": ".py",
   "mimetype": "text/x-python",
   "name": "python",
   "nbconvert_exporter": "python",
   "pygments_lexer": "ipython3",
   "version": "3.8.3"
  }
 },
 "nbformat": 4,
 "nbformat_minor": 4
}
