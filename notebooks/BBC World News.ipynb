{
 "cells": [
  {
   "cell_type": "markdown",
   "metadata": {},
   "source": [
    "# Bangkok Post"
   ]
  },
  {
   "cell_type": "code",
   "execution_count": 1,
   "metadata": {},
   "outputs": [],
   "source": [
    "#import libraries\n",
    "import os, sys\n",
    "import json\n",
    "import pandas as pd\n",
    "# import geopandas as gpd\n",
    "import numpy as np\n",
    "from numpy import int64\n",
    "import requests, io\n",
    "import urllib.request\n",
    "# these are throwing an error when imported\n",
    "#\n",
    "# import folium\n",
    "# from folium import plugins\n",
    "# import fiona\n",
    "# import branca\n",
    "# from branca.colormap import linear\n",
    "from bs4 import BeautifulSoup\n",
    "import matplotlib.pyplot as plt\n",
    "import logging\n",
    "\n",
    "logging.basicConfig(level=logging.DEBUG)"
   ]
  },
  {
   "cell_type": "code",
   "execution_count": 2,
   "metadata": {},
   "outputs": [
    {
     "name": "stderr",
     "output_type": "stream",
     "text": [
      "DEBUG:urllib3.connectionpool:Starting new HTTP connection (1): bangkokpost.com:80\n",
      "DEBUG:urllib3.connectionpool:http://bangkokpost.com:80 \"GET / HTTP/1.1\" 301 185\n",
      "DEBUG:urllib3.connectionpool:Starting new HTTPS connection (1): bangkokpost.com:443\n",
      "DEBUG:urllib3.connectionpool:https://bangkokpost.com:443 \"GET / HTTP/1.1\" 301 235\n",
      "DEBUG:urllib3.connectionpool:Starting new HTTP connection (1): www.bangkokpost.com:80\n",
      "DEBUG:urllib3.connectionpool:http://www.bangkokpost.com:80 \"GET / HTTP/1.1\" 301 185\n",
      "DEBUG:urllib3.connectionpool:Starting new HTTPS connection (1): www.bangkokpost.com:443\n",
      "DEBUG:urllib3.connectionpool:https://www.bangkokpost.com:443 \"GET / HTTP/1.1\" 200 49523\n"
     ]
    }
   ],
   "source": [
    "# get homepage\n",
    "url = 'http://bangkokpost.com'\n",
    "response = requests.get(url)\n",
    "data = response.content.decode('utf-8')\n",
    "soup = BeautifulSoup(response.text, 'lxml')\n"
   ]
  },
  {
   "cell_type": "code",
   "execution_count": 3,
   "metadata": {},
   "outputs": [
    {
     "data": {
      "text/plain": [
       "<div class=\"home-highlights\">\n",
       "<div class=\"list-v\">\n",
       "<figure>\n",
       "<a href=\"/world/2046555/slow-vaccine-rollouts-as-us-logs-record-deaths-world-update\"><img alt=\"Virus world update\" src=\"https://static.bangkokpost.com/media/content/20210106/c1_3859255_462.jpg\" srcset=\"https://static.bangkokpost.com/media/content/20210106/c1_3859255_345.jpg 500w,https://static.bangkokpost.com/media/content/20210106/c1_3859255_411.jpg 350w,https://static.bangkokpost.com/media/content/20210106/c1_3859255_462.jpg 700w\" title=\"Virus world update\"/></a>\n",
       "</figure>\n",
       "<div class=\"list-detail\">\n",
       "<div class=\"h-line\"><a href=\"/world\">World</a></div>\n",
       "<h2><a class=\"cx-exclude-id\" data-cx-exclude-id=\"2046555\" href=\"/world/2046555/slow-vaccine-rollouts-as-us-logs-record-deaths-world-update\">Virus world update</a> </h2>\n",
       "<p>England back in full lockdown as Europe battles to stem rising tide of coronavirus cases; US logs worst daily death.</p>\n",
       "<div class=\"f-icon\">\n",
       "<span>14:45</span>\n",
       "</div>\n",
       "</div>\n",
       "</div>\n",
       "</div>"
      ]
     },
     "execution_count": 3,
     "metadata": {},
     "output_type": "execute_result"
    }
   ],
   "source": [
    "highlights = soup.find(attrs={\"class\": 'home-highlights'})\n",
    "highlights"
   ]
  },
  {
   "cell_type": "code",
   "execution_count": 4,
   "metadata": {},
   "outputs": [
    {
     "data": {
      "text/plain": [
       "<a class=\"cx-exclude-id\" data-cx-exclude-id=\"2046555\" href=\"/world/2046555/slow-vaccine-rollouts-as-us-logs-record-deaths-world-update\">Virus world update</a>"
      ]
     },
     "execution_count": 4,
     "metadata": {},
     "output_type": "execute_result"
    }
   ],
   "source": [
    "top_story = highlights.find(attrs={\"class\": \"cx-exclude-id\"})\n",
    "top_story"
   ]
  },
  {
   "cell_type": "code",
   "execution_count": null,
   "metadata": {},
   "outputs": [],
   "source": [
    "top_story.get_text()"
   ]
  },
  {
   "cell_type": "code",
   "execution_count": null,
   "metadata": {},
   "outputs": [],
   "source": [
    "highlights.find(\"p\").get_text()"
   ]
  },
  {
   "cell_type": "markdown",
   "metadata": {},
   "source": [
    "## get the highlights on the side"
   ]
  },
  {
   "cell_type": "code",
   "execution_count": 5,
   "metadata": {},
   "outputs": [
    {
     "data": {
      "text/plain": [
       "<article class=\"article-highlights-side\">\n",
       "<div class=\"home-date-time\"><!--Current date time--></div>\n",
       "<div class=\"highlights-side\">\n",
       "<div class=\"list-h\">\n",
       "<div class=\"list-detail\">\n",
       "<div class=\"h-line\"><a href=\"/thailand\">Thailand</a></div>\n",
       "<h3><a class=\"cx-exclude-id\" data-cx-exclude-id=\"2046531\" href=\"/thailand/general/2046531/new-covid-death-linked-to-migrant-labour\">1 death, 365 new cases</a> </h3>\n",
       "<p>A man who drove migrant labourers to and from work in Samut Sakhon has died after catching Covid-19.</p>\n",
       "<div class=\"f-icon\">\n",
       "<span>13:05</span>\n",
       "<span class=\"ic-comment\"><a href=\"/thailand/general/2046531/new-covid-death-linked-to-migrant-labour?view_comment=1\"><i class=\"icon-comment\"></i> 36</a></span> </div>\n",
       "</div>\n",
       "<figure>\n",
       "<a href=\"/thailand/general/2046531/new-covid-death-linked-to-migrant-labour\"><img alt=\"1 death, 365 new cases\" src=\"https://static.bangkokpost.com/media/content/20210106/c1_2046531_216.jpg\" srcset=\"https://static.bangkokpost.com/media/content/20210106/c1_2046531_113.jpg 350w,https://static.bangkokpost.com/media/content/20210106/c1_2046531_158.jpg 500w,https://static.bangkokpost.com/media/content/20210106/c1_2046531_216.jpg 700w\" title=\"1 death, 365 new cases\"/></a>\n",
       "</figure>\n",
       "</div>\n",
       "<div class=\"list-h\">\n",
       "<div class=\"list-detail\">\n",
       "<div class=\"h-line\"><a href=\"/thailand\">Thailand</a></div>\n",
       "<h3><a class=\"cx-exclude-id\" data-cx-exclude-id=\"2046367\" href=\"/thailand/general/2046367/qualified-hope\">Qualified hope</a> </h3>\n",
       "<p>The arrival of a Covid-19 vaccine would not mean an immediate end to virus prevention protocols the public has been told to abide by, head of disease control says.</p>\n",
       "<div class=\"f-icon\">\n",
       "<span>06:55</span>\n",
       "<span class=\"ic-comment\"><a href=\"/thailand/general/2046367/qualified-hope?view_comment=1\"><i class=\"icon-comment\"></i> 57</a></span> </div>\n",
       "</div>\n",
       "<figure>\n",
       "<a href=\"/thailand/general/2046367/qualified-hope\"><img alt=\"Qualified hope\" src=\"https://static.bangkokpost.com/media/content/dcx/2020/12/26/3858815_216.jpg\" srcset=\"https://static.bangkokpost.com/media/content/dcx/2020/12/26/3858815_113.jpg 350w,https://static.bangkokpost.com/media/content/dcx/2020/12/26/3858815_158.jpg 500w,https://static.bangkokpost.com/media/content/dcx/2020/12/26/3858815_216.jpg 700w\" title=\"Qualified hope\"/></a>\n",
       "</figure>\n",
       "</div>\n",
       "<div class=\"list-h\">\n",
       "<div class=\"list-detail\">\n",
       "<div class=\"h-line\"><a href=\"/thailand\">Thailand</a></div>\n",
       "<h3><a class=\"cx-exclude-id\" data-cx-exclude-id=\"2046163\" href=\"/thailand/general/2046163/bma-threat-to-shut-rebel-restaurants\">BMA warning</a> </h3>\n",
       "<p>The Bangkok Metropolitan Administration has threatened to close restaurants that fail to comply with Covid-19 restrictions for 14 days.</p>\n",
       "<div class=\"f-icon\">\n",
       "<span>06:44</span>\n",
       "<span class=\"ic-comment\"><a href=\"/thailand/general/2046163/bma-threat-to-shut-rebel-restaurants?view_comment=1\"><i class=\"icon-comment\"></i> 7</a></span> </div>\n",
       "</div>\n",
       "<figure>\n",
       "<a href=\"/thailand/general/2046163/bma-threat-to-shut-rebel-restaurants\"><img alt=\"BMA warning\" src=\"https://static.bangkokpost.com/media/content/20210106/c1_2046163_210106082657_216.jpg\" srcset=\"https://static.bangkokpost.com/media/content/20210106/c1_2046163_210106082657_113.jpg 350w,https://static.bangkokpost.com/media/content/20210106/c1_2046163_210106082657_158.jpg 500w,https://static.bangkokpost.com/media/content/20210106/c1_2046163_210106082657_216.jpg 700w\" title=\"BMA warning\"/></a>\n",
       "</figure>\n",
       "</div>\n",
       "</div>\n",
       "</article>"
      ]
     },
     "execution_count": 5,
     "metadata": {},
     "output_type": "execute_result"
    }
   ],
   "source": [
    "highlights = soup.find(attrs={\"class\":\"article-highlights-side\"})\n",
    "highlights"
   ]
  },
  {
   "cell_type": "code",
   "execution_count": null,
   "metadata": {},
   "outputs": [],
   "source": [
    "detail_list = highlights.find_all(attrs={\"class\":\"list-detail\"})\n",
    "print(len(detail_list))\n",
    "detail_list"
   ]
  },
  {
   "cell_type": "code",
   "execution_count": null,
   "metadata": {},
   "outputs": [],
   "source": [
    "for i in detail_list:\n",
    "    href = i.find(attrs={\"class\": \"cx-exclude-id\"})\n",
    "    headline = href.get_text()\n",
    "    link = href['href']\n",
    "    \n",
    "    summary = i.find('p').get_text()\n",
    "    \n",
    "    print(f'headline: {headline}')\n",
    "    print(f'summary: {summary}')\n",
    "    print(f'link: {link}\\n\\n')"
   ]
  },
  {
   "cell_type": "code",
   "execution_count": null,
   "metadata": {},
   "outputs": [],
   "source": []
  },
  {
   "cell_type": "code",
   "execution_count": null,
   "metadata": {},
   "outputs": [],
   "source": []
  }
 ],
 "metadata": {
  "kernelspec": {
   "display_name": "Python 3",
   "language": "python",
   "name": "python3"
  },
  "language_info": {
   "codemirror_mode": {
    "name": "ipython",
    "version": 3
   },
   "file_extension": ".py",
   "mimetype": "text/x-python",
   "name": "python",
   "nbconvert_exporter": "python",
   "pygments_lexer": "ipython3",
   "version": "3.8.3"
  }
 },
 "nbformat": 4,
 "nbformat_minor": 4
}
