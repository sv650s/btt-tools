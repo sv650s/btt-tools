{
 "cells": [
  {
   "cell_type": "code",
   "execution_count": 1,
   "metadata": {},
   "outputs": [],
   "source": [
    "#import libraries\n",
    "import os, sys\n",
    "import json\n",
    "import pandas as pd\n",
    "# import geopandas as gpd\n",
    "import numpy as np\n",
    "from numpy import int64\n",
    "import requests, io\n",
    "import urllib.request\n",
    "# these are throwing an error when imported\n",
    "#\n",
    "# import folium\n",
    "# from folium import plugins\n",
    "# import fiona\n",
    "# import branca\n",
    "# from branca.colormap import linear\n",
    "from bs4 import BeautifulSoup\n",
    "import matplotlib.pyplot as plt\n",
    "import logging\n",
    "\n",
    "logging.basicConfig(level=logging.DEBUG)"
   ]
  },
  {
   "cell_type": "code",
   "execution_count": 2,
   "metadata": {},
   "outputs": [
    {
     "name": "stderr",
     "output_type": "stream",
     "text": [
      "DEBUG:urllib3.connectionpool:Starting new HTTP connection (1): bangkokpost.com:80\n",
      "DEBUG:urllib3.connectionpool:http://bangkokpost.com:80 \"GET / HTTP/1.1\" 301 185\n",
      "DEBUG:urllib3.connectionpool:Starting new HTTPS connection (1): bangkokpost.com:443\n",
      "DEBUG:urllib3.connectionpool:https://bangkokpost.com:443 \"GET / HTTP/1.1\" 301 235\n",
      "DEBUG:urllib3.connectionpool:Starting new HTTP connection (1): www.bangkokpost.com:80\n",
      "DEBUG:urllib3.connectionpool:http://www.bangkokpost.com:80 \"GET / HTTP/1.1\" 301 185\n",
      "DEBUG:urllib3.connectionpool:Starting new HTTPS connection (1): www.bangkokpost.com:443\n",
      "DEBUG:urllib3.connectionpool:https://www.bangkokpost.com:443 \"GET / HTTP/1.1\" 200 49133\n"
     ]
    }
   ],
   "source": [
    "# get homepage\n",
    "url = 'http://bangkokpost.com'\n",
    "response = requests.get(url)\n",
    "data = response.content.decode('utf-8')\n",
    "soup = BeautifulSoup(response.text, 'lxml')\n"
   ]
  },
  {
   "cell_type": "code",
   "execution_count": 3,
   "metadata": {},
   "outputs": [
    {
     "data": {
      "text/plain": [
       "<div class=\"home-highlights\">\n",
       "<div class=\"list-v\">\n",
       "<figure>\n",
       "<a href=\"/thailand/general/2046003/35m-more-shots-to-be-bought-in-2021\"><img alt=\"More shots\" src=\"https://static.bangkokpost.com/media/content/20210105/c1_2046003_210105202759_462.jpg\" srcset=\"https://static.bangkokpost.com/media/content/20210105/c1_2046003_210105202759_345.jpg 500w,https://static.bangkokpost.com/media/content/20210105/c1_2046003_210105202759_411.jpg 350w,https://static.bangkokpost.com/media/content/20210105/c1_2046003_210105202759_462.jpg 700w\" title=\"More shots\"/></a>\n",
       "</figure>\n",
       "<div class=\"list-detail\">\n",
       "<div class=\"h-line\"><a href=\"/thailand\">Thailand</a></div>\n",
       "<h2><a class=\"cx-exclude-id\" data-cx-exclude-id=\"2046003\" href=\"/thailand/general/2046003/35m-more-shots-to-be-bought-in-2021\">More shots</a> </h2>\n",
       "<p>The cabinet approves plans to buy 35m more doses of Covid-19 vaccines, adding to 28m to be shipped in the first half, so that half of population can be inoculated this year.</p>\n",
       "<div class=\"f-icon\">\n",
       "<span>20:13</span>\n",
       "</div>\n",
       "</div>\n",
       "</div>\n",
       "</div>"
      ]
     },
     "execution_count": 3,
     "metadata": {},
     "output_type": "execute_result"
    }
   ],
   "source": [
    "highlights = soup.find(attrs={\"class\": 'home-highlights'})\n",
    "highlights"
   ]
  },
  {
   "cell_type": "code",
   "execution_count": 4,
   "metadata": {},
   "outputs": [
    {
     "data": {
      "text/plain": [
       "<a class=\"cx-exclude-id\" data-cx-exclude-id=\"2046003\" href=\"/thailand/general/2046003/35m-more-shots-to-be-bought-in-2021\">More shots</a>"
      ]
     },
     "execution_count": 4,
     "metadata": {},
     "output_type": "execute_result"
    }
   ],
   "source": [
    "top_story = highlights.find(attrs={\"class\": \"cx-exclude-id\"})\n",
    "top_story"
   ]
  },
  {
   "cell_type": "code",
   "execution_count": 5,
   "metadata": {},
   "outputs": [
    {
     "data": {
      "text/plain": [
       "'More shots'"
      ]
     },
     "execution_count": 5,
     "metadata": {},
     "output_type": "execute_result"
    }
   ],
   "source": [
    "top_story.get_text()"
   ]
  },
  {
   "cell_type": "code",
   "execution_count": 6,
   "metadata": {},
   "outputs": [
    {
     "data": {
      "text/plain": [
       "'The cabinet approves plans to buy 35m more doses of Covid-19 vaccines, adding to 28m to be shipped in the first half, so that half of population can be inoculated this year.'"
      ]
     },
     "execution_count": 6,
     "metadata": {},
     "output_type": "execute_result"
    }
   ],
   "source": [
    "highlights.find(\"p\").get_text()"
   ]
  },
  {
   "cell_type": "markdown",
   "metadata": {},
   "source": [
    "get the highlights on the side"
   ]
  },
  {
   "cell_type": "code",
   "execution_count": 7,
   "metadata": {},
   "outputs": [
    {
     "data": {
      "text/plain": [
       "<article class=\"article-highlights-side\">\n",
       "<div class=\"home-date-time\"><!--Current date time--></div>\n",
       "<div class=\"highlights-side\">\n",
       "<div class=\"list-h\">\n",
       "<div class=\"list-detail\">\n",
       "<div class=\"h-line\"><a href=\"/thailand\">Thailand</a></div>\n",
       "<h3><a class=\"cx-exclude-id\" data-cx-exclude-id=\"2045963\" href=\"/thailand/general/2045963/almost-400-killed-during-holiday-travel\">Death toll up</a> </h3>\n",
       "<p>Almost 400 died in about 3,300 road accidents nationwide during the seven-day New Year road safety campaign this year, up 5% from the same period last year.</p>\n",
       "<div class=\"f-icon\">\n",
       "<span>17:24</span>\n",
       "<span class=\"ic-comment\"><a href=\"/thailand/general/2045963/almost-400-killed-during-holiday-travel?view_comment=1\"><i class=\"icon-comment\"></i> 15</a></span> </div>\n",
       "</div>\n",
       "<figure>\n",
       "<a href=\"/thailand/general/2045963/almost-400-killed-during-holiday-travel\"><img alt=\"Death toll up\" src=\"https://static.bangkokpost.com/media/content/20210105/c1_2045963_210105173114_216.jpg\" srcset=\"https://static.bangkokpost.com/media/content/20210105/c1_2045963_210105173114_113.jpg 350w,https://static.bangkokpost.com/media/content/20210105/c1_2045963_210105173114_158.jpg 500w,https://static.bangkokpost.com/media/content/20210105/c1_2045963_210105173114_216.jpg 700w\" title=\"Death toll up\"/></a>\n",
       "</figure>\n",
       "</div>\n",
       "<div class=\"list-h\">\n",
       "<div class=\"list-detail\">\n",
       "<div class=\"h-line\"><a href=\"/thailand\">Thailand</a></div>\n",
       "<h3><a class=\"cx-exclude-id\" data-cx-exclude-id=\"2045947\" href=\"/thailand/general/2045947/elusive-gamblers-proving-major-headache-in-fight-to-stop-covid-19\">Elusive punters</a> </h3>\n",
       "<p>Health officials have been able to restrict the movement of Covid-infected migrant workers in Samut Sakhon, but it is much harder tracking down infected gamblers.</p>\n",
       "<div class=\"f-icon\">\n",
       "<span>16:02</span>\n",
       "<span class=\"ic-comment\"><a href=\"/thailand/general/2045947/elusive-gamblers-proving-major-headache-in-fight-to-stop-covid-19?view_comment=1\"><i class=\"icon-comment\"></i> 20</a></span> </div>\n",
       "</div>\n",
       "<figure>\n",
       "<a href=\"/thailand/general/2045947/elusive-gamblers-proving-major-headache-in-fight-to-stop-covid-19\"><img alt=\"Elusive punters\" src=\"https://static.bangkokpost.com/media/content/20210105/c1_2045947_216.jpg\" srcset=\"https://static.bangkokpost.com/media/content/20210105/c1_2045947_113.jpg 350w,https://static.bangkokpost.com/media/content/20210105/c1_2045947_158.jpg 500w,https://static.bangkokpost.com/media/content/20210105/c1_2045947_216.jpg 700w\" title=\"Elusive punters\"/></a>\n",
       "</figure>\n",
       "</div>\n",
       "<div class=\"list-h\">\n",
       "<div class=\"list-detail\">\n",
       "<div class=\"h-line\"><a href=\"/thailand\">Thailand</a></div>\n",
       "<h3><a class=\"cx-exclude-id\" data-cx-exclude-id=\"2045883\" href=\"/thailand/general/2045883/527-new-covid-cases-tuesday-mostly-migrant-workers\">+527 Covid cases</a> <span><i class=\"ic-update2\"></i></span></h3>\n",
       "<p>Thailand records 527 new cases of coronavirus; all but six are local transmissions, and  439 are migrant workers. Total cases now 8,966; no new deaths.</p>\n",
       "<div class=\"f-icon\">\n",
       "<span>11:51</span>\n",
       "<span class=\"ic-comment\"><a href=\"/thailand/general/2045883/527-new-covid-cases-tuesday-mostly-migrant-workers?view_comment=1\"><i class=\"icon-comment\"></i> 72</a></span> </div>\n",
       "</div>\n",
       "<figure>\n",
       "<a href=\"/thailand/general/2045883/527-new-covid-cases-tuesday-mostly-migrant-workers\"><img alt=\"+527 Covid cases\" src=\"https://static.bangkokpost.com/media/content/20210105/c1_2045883_216.jpg\" srcset=\"https://static.bangkokpost.com/media/content/20210105/c1_2045883_113.jpg 350w,https://static.bangkokpost.com/media/content/20210105/c1_2045883_158.jpg 500w,https://static.bangkokpost.com/media/content/20210105/c1_2045883_216.jpg 700w\" title=\"+527 Covid cases\"/></a>\n",
       "</figure>\n",
       "</div>\n",
       "</div>\n",
       "</article>"
      ]
     },
     "execution_count": 7,
     "metadata": {},
     "output_type": "execute_result"
    }
   ],
   "source": [
    "highlights = soup.find(attrs={\"class\":\"article-highlights-side\"})\n",
    "highlights"
   ]
  },
  {
   "cell_type": "code",
   "execution_count": 8,
   "metadata": {},
   "outputs": [
    {
     "name": "stdout",
     "output_type": "stream",
     "text": [
      "3\n"
     ]
    },
    {
     "data": {
      "text/plain": [
       "[<div class=\"list-detail\">\n",
       " <div class=\"h-line\"><a href=\"/thailand\">Thailand</a></div>\n",
       " <h3><a class=\"cx-exclude-id\" data-cx-exclude-id=\"2045963\" href=\"/thailand/general/2045963/almost-400-killed-during-holiday-travel\">Death toll up</a> </h3>\n",
       " <p>Almost 400 died in about 3,300 road accidents nationwide during the seven-day New Year road safety campaign this year, up 5% from the same period last year.</p>\n",
       " <div class=\"f-icon\">\n",
       " <span>17:24</span>\n",
       " <span class=\"ic-comment\"><a href=\"/thailand/general/2045963/almost-400-killed-during-holiday-travel?view_comment=1\"><i class=\"icon-comment\"></i> 15</a></span> </div>\n",
       " </div>,\n",
       " <div class=\"list-detail\">\n",
       " <div class=\"h-line\"><a href=\"/thailand\">Thailand</a></div>\n",
       " <h3><a class=\"cx-exclude-id\" data-cx-exclude-id=\"2045947\" href=\"/thailand/general/2045947/elusive-gamblers-proving-major-headache-in-fight-to-stop-covid-19\">Elusive punters</a> </h3>\n",
       " <p>Health officials have been able to restrict the movement of Covid-infected migrant workers in Samut Sakhon, but it is much harder tracking down infected gamblers.</p>\n",
       " <div class=\"f-icon\">\n",
       " <span>16:02</span>\n",
       " <span class=\"ic-comment\"><a href=\"/thailand/general/2045947/elusive-gamblers-proving-major-headache-in-fight-to-stop-covid-19?view_comment=1\"><i class=\"icon-comment\"></i> 20</a></span> </div>\n",
       " </div>,\n",
       " <div class=\"list-detail\">\n",
       " <div class=\"h-line\"><a href=\"/thailand\">Thailand</a></div>\n",
       " <h3><a class=\"cx-exclude-id\" data-cx-exclude-id=\"2045883\" href=\"/thailand/general/2045883/527-new-covid-cases-tuesday-mostly-migrant-workers\">+527 Covid cases</a> <span><i class=\"ic-update2\"></i></span></h3>\n",
       " <p>Thailand records 527 new cases of coronavirus; all but six are local transmissions, and  439 are migrant workers. Total cases now 8,966; no new deaths.</p>\n",
       " <div class=\"f-icon\">\n",
       " <span>11:51</span>\n",
       " <span class=\"ic-comment\"><a href=\"/thailand/general/2045883/527-new-covid-cases-tuesday-mostly-migrant-workers?view_comment=1\"><i class=\"icon-comment\"></i> 72</a></span> </div>\n",
       " </div>]"
      ]
     },
     "execution_count": 8,
     "metadata": {},
     "output_type": "execute_result"
    }
   ],
   "source": [
    "detail_list = highlights.find_all(attrs={\"class\":\"list-detail\"})\n",
    "print(len(detail_list))\n",
    "detail_list"
   ]
  },
  {
   "cell_type": "code",
   "execution_count": 10,
   "metadata": {},
   "outputs": [
    {
     "name": "stdout",
     "output_type": "stream",
     "text": [
      "headline: Death toll up\n",
      "summary: Almost 400 died in about 3,300 road accidents nationwide during the seven-day New Year road safety campaign this year, up 5% from the same period last year.\n",
      "link: /thailand/general/2045963/almost-400-killed-during-holiday-travel\n",
      "\n",
      "\n",
      "headline: Elusive punters\n",
      "summary: Health officials have been able to restrict the movement of Covid-infected migrant workers in Samut Sakhon, but it is much harder tracking down infected gamblers.\n",
      "link: /thailand/general/2045947/elusive-gamblers-proving-major-headache-in-fight-to-stop-covid-19\n",
      "\n",
      "\n",
      "headline: +527 Covid cases\n",
      "summary: Thailand records 527 new cases of coronavirus; all but six are local transmissions, and  439 are migrant workers. Total cases now 8,966; no new deaths.\n",
      "link: /thailand/general/2045883/527-new-covid-cases-tuesday-mostly-migrant-workers\n",
      "\n",
      "\n"
     ]
    }
   ],
   "source": [
    "for i in detail_list:\n",
    "    href = i.find(attrs={\"class\": \"cx-exclude-id\"})\n",
    "    headline = href.get_text()\n",
    "    link = href['href']\n",
    "    \n",
    "    summary = i.find('p').get_text()\n",
    "    \n",
    "    print(f'headline: {headline}')\n",
    "    print(f'summary: {summary}')\n",
    "    print(f'link: {link}\\n\\n')"
   ]
  },
  {
   "cell_type": "code",
   "execution_count": null,
   "metadata": {},
   "outputs": [],
   "source": []
  },
  {
   "cell_type": "code",
   "execution_count": null,
   "metadata": {},
   "outputs": [],
   "source": []
  }
 ],
 "metadata": {
  "kernelspec": {
   "display_name": "Python 3",
   "language": "python",
   "name": "python3"
  },
  "language_info": {
   "codemirror_mode": {
    "name": "ipython",
    "version": 3
   },
   "file_extension": ".py",
   "mimetype": "text/x-python",
   "name": "python",
   "nbconvert_exporter": "python",
   "pygments_lexer": "ipython3",
   "version": "3.8.3"
  }
 },
 "nbformat": 4,
 "nbformat_minor": 4
}
