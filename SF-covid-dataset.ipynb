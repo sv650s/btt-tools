{
 "cells": [
  {
   "cell_type": "markdown",
   "metadata": {},
   "source": [
    "# Transmission and Disposition\n",
    "\n",
    "Page: https://data.sfgov.org/COVID-19/COVID-19-Cases-Summarized-by-Date-Transmission-and/tvq9-ec9w\n",
    "Download link: https://data.sfgov.org/api/views/tvq9-ec9w/rows.csv?accessType=DOWNLOAD\n",
    "Filename: COVID-19_Cases_Summarized_by_Date__Transmission_and_Case_Disposition.csv\n",
    "\n",
    "There is multiple entries per day - each entry is a combination of disposition and transmission\n",
    "\n",
    "Disposition\n",
    "* confirmed - cases where lab testing was positive\n",
    "* deaths - those cases of infection resulting in death\n",
    "\n",
    "Transmission\n",
    "Subject asked if they have been in close contact with a known COVID-19 case\n",
    "* From Contact - known close contact with known COVID-19 case\n",
    "* Community - no known close contact with a known COVID-19 case\n",
    "* Unknown - question was not asked\n",
    "\n",
    "\n",
    "\n",
    "\n",
    "# Age Group\n",
    "Page: https://data.sfgov.org/COVID-19/COVID-19-Cases-Summarized-by-Age-Group/sunc-2t3k\n",
    "Download link: https://data.sfgov.org/api/views/sunc-2t3k/rows.csv?accessType=DOWNLOAD\n",
    "Filename: COVID-19_Cases_Summarized_by_Age_Group\n",
    "\n",
    "Mutliple entries per day - one per age group\n",
    "\n",
    "Age groups:\n",
    "\n",
    "0-4\n",
    "5-10\n",
    "11-13\n",
    "14-17\n",
    "18-20\n",
    "21-24\n",
    "25-29\n",
    "30-39\n",
    "40-49\n",
    "50-59\n",
    "60-69\n",
    "70-79\n",
    "80+\n",
    "Unknown\n",
    "\n",
    "Unknowns may become known over time as more information is gathered.\n",
    "\n",
    "Age groups resulting in 5 or fewer cumulative cases are dropped for privacy reasons.\n",
    "\n",
    "\n",
    "# Race and Ethnicity\n",
    "\n",
    "Page: https://data.sfgov.org/COVID-19/COVID-19-Cases-Summarized-by-Age-Group/sunc-2t3k\n",
    "Download link: https://data.sfgov.org/api/views/vqqm-nsqg/rows.csv?accessType=DOWNLOAD\n",
    "Filename: COVID-19__Cases_Summarized_by_Race_and_Ethnicity.csv\n",
    "\n",
    "Multiple per day - one entry per ethnicity\n",
    "\n",
    "\n",
    "\n",
    "# Gender\n",
    "Page: https://data.sfgov.org/COVID-19/COVID-19-Cases-Summarized-by-Gender/nhy6-gqam\n",
    "Download link: https://data.sfgov.org/api/views/nhy6-gqam/rows.csv?accessType=DOWNLOAD\n",
    "Filename: COVID-19__Cases_Summarized_by_Gender.csv\n",
    "\n",
    "\n"
   ]
  },
  {
   "cell_type": "code",
   "execution_count": 20,
   "metadata": {},
   "outputs": [],
   "source": [
    "import pandas as pd\n",
    "import seaborn as sns\n",
    "import matplotlib.pyplot as plt\n",
    "from pprint import PrettyPrinter as pp\n",
    "\n",
    "sns.set()"
   ]
  },
  {
   "cell_type": "markdown",
   "metadata": {},
   "source": [
    "# Transmission and Disposition"
   ]
  },
  {
   "cell_type": "code",
   "execution_count": 21,
   "metadata": {},
   "outputs": [
    {
     "name": "stdout",
     "output_type": "stream",
     "text": [
      "<class 'pandas.core.frame.DataFrame'>\n",
      "RangeIndex: 918 entries, 0 to 917\n",
      "Data columns (total 5 columns):\n",
      " #   Column                    Non-Null Count  Dtype         \n",
      "---  ------                    --------------  -----         \n",
      " 0   Specimen Collection Date  918 non-null    datetime64[ns]\n",
      " 1   Case Disposition          918 non-null    object        \n",
      " 2   Transmission Category     918 non-null    object        \n",
      " 3   Case Count                918 non-null    int64         \n",
      " 4   Last Updated At           918 non-null    datetime64[ns]\n",
      "dtypes: datetime64[ns](2), int64(1), object(2)\n",
      "memory usage: 36.0+ KB\n"
     ]
    }
   ],
   "source": [
    "TRANSMISSION_DATAFILE=\"COVID-19_Cases_Summarized_by_Date__Transmission_and_Case_Disposition.csv\"\n",
    "\n",
    "transmission_df = pd.read_csv(TRANSMISSION_DATAFILE, parse_dates = ['Specimen Collection Date', 'Last Updated At'])\n",
    "\n",
    "transmission_df.info()"
   ]
  },
  {
   "cell_type": "code",
   "execution_count": 22,
   "metadata": {},
   "outputs": [
    {
     "data": {
      "text/html": [
       "<div>\n",
       "<style scoped>\n",
       "    .dataframe tbody tr th:only-of-type {\n",
       "        vertical-align: middle;\n",
       "    }\n",
       "\n",
       "    .dataframe tbody tr th {\n",
       "        vertical-align: top;\n",
       "    }\n",
       "\n",
       "    .dataframe thead th {\n",
       "        text-align: right;\n",
       "    }\n",
       "</style>\n",
       "<table border=\"1\" class=\"dataframe\">\n",
       "  <thead>\n",
       "    <tr style=\"text-align: right;\">\n",
       "      <th></th>\n",
       "      <th>Case Count</th>\n",
       "    </tr>\n",
       "  </thead>\n",
       "  <tbody>\n",
       "    <tr>\n",
       "      <th>count</th>\n",
       "      <td>918.000000</td>\n",
       "    </tr>\n",
       "    <tr>\n",
       "      <th>mean</th>\n",
       "      <td>26.246187</td>\n",
       "    </tr>\n",
       "    <tr>\n",
       "      <th>std</th>\n",
       "      <td>31.075915</td>\n",
       "    </tr>\n",
       "    <tr>\n",
       "      <th>min</th>\n",
       "      <td>1.000000</td>\n",
       "    </tr>\n",
       "    <tr>\n",
       "      <th>25%</th>\n",
       "      <td>2.000000</td>\n",
       "    </tr>\n",
       "    <tr>\n",
       "      <th>50%</th>\n",
       "      <td>17.000000</td>\n",
       "    </tr>\n",
       "    <tr>\n",
       "      <th>75%</th>\n",
       "      <td>37.000000</td>\n",
       "    </tr>\n",
       "    <tr>\n",
       "      <th>max</th>\n",
       "      <td>207.000000</td>\n",
       "    </tr>\n",
       "  </tbody>\n",
       "</table>\n",
       "</div>"
      ],
      "text/plain": [
       "       Case Count\n",
       "count  918.000000\n",
       "mean    26.246187\n",
       "std     31.075915\n",
       "min      1.000000\n",
       "25%      2.000000\n",
       "50%     17.000000\n",
       "75%     37.000000\n",
       "max    207.000000"
      ]
     },
     "execution_count": 22,
     "metadata": {},
     "output_type": "execute_result"
    }
   ],
   "source": [
    "transmission_df.describe()"
   ]
  },
  {
   "cell_type": "markdown",
   "metadata": {},
   "source": [
    "### Rename Columns"
   ]
  },
  {
   "cell_type": "markdown",
   "metadata": {},
   "source": [
    "Use list comprehension"
   ]
  },
  {
   "cell_type": "code",
   "execution_count": 24,
   "metadata": {},
   "outputs": [
    {
     "name": "stdout",
     "output_type": "stream",
     "text": [
      "<class 'pandas.core.frame.DataFrame'>\n",
      "RangeIndex: 918 entries, 0 to 917\n",
      "Data columns (total 5 columns):\n",
      " #   Column                    Non-Null Count  Dtype         \n",
      "---  ------                    --------------  -----         \n",
      " 0   specimen_collection_date  918 non-null    datetime64[ns]\n",
      " 1   case_disposition          918 non-null    object        \n",
      " 2   transmission_category     918 non-null    object        \n",
      " 3   case_count                918 non-null    int64         \n",
      " 4   last_updated_at           918 non-null    datetime64[ns]\n",
      "dtypes: datetime64[ns](2), int64(1), object(2)\n",
      "memory usage: 36.0+ KB\n"
     ]
    }
   ],
   "source": [
    "new_column_names = [col.lower().replace(' ', '_') for col in transmission_df.columns]\n",
    "transmission_df.columns = new_column_names\n",
    "transmission_df.info()"
   ]
  },
  {
   "cell_type": "markdown",
   "metadata": {},
   "source": [
    "### Data Discovery"
   ]
  },
  {
   "cell_type": "code",
   "execution_count": 25,
   "metadata": {},
   "outputs": [
    {
     "data": {
      "text/plain": [
       "<pandas.core.groupby.generic.DataFrameGroupBy object at 0x7f94a6782880>"
      ]
     },
     "execution_count": 25,
     "metadata": {},
     "output_type": "execute_result"
    }
   ],
   "source": [
    "transmission_df.groupby('case_disposition')."
   ]
  },
  {
   "cell_type": "code",
   "execution_count": null,
   "metadata": {},
   "outputs": [],
   "source": [
    "transmission_df.transmission_category.unique()"
   ]
  },
  {
   "cell_type": "code",
   "execution_count": null,
   "metadata": {},
   "outputs": [],
   "source": []
  },
  {
   "cell_type": "markdown",
   "metadata": {},
   "source": [
    "# Race and Ethnicity"
   ]
  },
  {
   "cell_type": "code",
   "execution_count": 10,
   "metadata": {},
   "outputs": [
    {
     "name": "stdout",
     "output_type": "stream",
     "text": [
      "<class 'pandas.core.frame.DataFrame'>\n",
      "RangeIndex: 2553 entries, 0 to 2552\n",
      "Data columns (total 5 columns):\n",
      " #   Column                      Non-Null Count  Dtype         \n",
      "---  ------                      --------------  -----         \n",
      " 0   specimen_collection_date    2553 non-null   datetime64[ns]\n",
      " 1   race_ethnicity              2553 non-null   object        \n",
      " 2   new_confirmed_cases         2553 non-null   int64         \n",
      " 3   cumulative_confirmed_cases  2553 non-null   int64         \n",
      " 4   last_updated_at             2553 non-null   datetime64[ns]\n",
      "dtypes: datetime64[ns](2), int64(2), object(1)\n",
      "memory usage: 99.9+ KB\n"
     ]
    }
   ],
   "source": [
    "RACE_DATAFILE = 'COVID-19__Cases_Summarized_by_Race_and_Ethnicity.csv'\n",
    "race_df = pd.read_csv(RACE_DATAFILE, parse_dates = ['Specimen Collection Date', 'Last Updated at'])\n",
    "new_columns = [col.lower().replace(' ','_').replace('/', '_') for col in race_df.columns]\n",
    "race_df.columns = new_columns\n",
    "race_df.info()"
   ]
  },
  {
   "cell_type": "code",
   "execution_count": 7,
   "metadata": {},
   "outputs": [
    {
     "data": {
      "text/html": [
       "<div>\n",
       "<style scoped>\n",
       "    .dataframe tbody tr th:only-of-type {\n",
       "        vertical-align: middle;\n",
       "    }\n",
       "\n",
       "    .dataframe tbody tr th {\n",
       "        vertical-align: top;\n",
       "    }\n",
       "\n",
       "    .dataframe thead th {\n",
       "        text-align: right;\n",
       "    }\n",
       "</style>\n",
       "<table border=\"1\" class=\"dataframe\">\n",
       "  <thead>\n",
       "    <tr style=\"text-align: right;\">\n",
       "      <th></th>\n",
       "      <th>New Confirmed Cases</th>\n",
       "      <th>Cumulative Confirmed Cases</th>\n",
       "    </tr>\n",
       "  </thead>\n",
       "  <tbody>\n",
       "    <tr>\n",
       "      <th>count</th>\n",
       "      <td>2553.000000</td>\n",
       "      <td>2553.000000</td>\n",
       "    </tr>\n",
       "    <tr>\n",
       "      <th>mean</th>\n",
       "      <td>9.350176</td>\n",
       "      <td>929.321191</td>\n",
       "    </tr>\n",
       "    <tr>\n",
       "      <th>std</th>\n",
       "      <td>17.431538</td>\n",
       "      <td>1615.750780</td>\n",
       "    </tr>\n",
       "    <tr>\n",
       "      <th>min</th>\n",
       "      <td>0.000000</td>\n",
       "      <td>5.000000</td>\n",
       "    </tr>\n",
       "    <tr>\n",
       "      <th>25%</th>\n",
       "      <td>0.000000</td>\n",
       "      <td>35.000000</td>\n",
       "    </tr>\n",
       "    <tr>\n",
       "      <th>50%</th>\n",
       "      <td>3.000000</td>\n",
       "      <td>264.000000</td>\n",
       "    </tr>\n",
       "    <tr>\n",
       "      <th>75%</th>\n",
       "      <td>10.000000</td>\n",
       "      <td>1142.000000</td>\n",
       "    </tr>\n",
       "    <tr>\n",
       "      <th>max</th>\n",
       "      <td>154.000000</td>\n",
       "      <td>10328.000000</td>\n",
       "    </tr>\n",
       "  </tbody>\n",
       "</table>\n",
       "</div>"
      ],
      "text/plain": [
       "       New Confirmed Cases  Cumulative Confirmed Cases\n",
       "count          2553.000000                 2553.000000\n",
       "mean              9.350176                  929.321191\n",
       "std              17.431538                 1615.750780\n",
       "min               0.000000                    5.000000\n",
       "25%               0.000000                   35.000000\n",
       "50%               3.000000                  264.000000\n",
       "75%              10.000000                 1142.000000\n",
       "max             154.000000                10328.000000"
      ]
     },
     "execution_count": 7,
     "metadata": {},
     "output_type": "execute_result"
    }
   ],
   "source": [
    "race_df.describe()"
   ]
  },
  {
   "cell_type": "code",
   "execution_count": 19,
   "metadata": {},
   "outputs": [
    {
     "ename": "TypeError",
     "evalue": "pprint() missing 1 required positional argument: 'object'",
     "output_type": "error",
     "traceback": [
      "\u001b[0;31m---------------------------------------------------------------------------\u001b[0m",
      "\u001b[0;31mTypeError\u001b[0m                                 Traceback (most recent call last)",
      "\u001b[0;32m<ipython-input-19-a398ea6e2bba>\u001b[0m in \u001b[0;36m<module>\u001b[0;34m\u001b[0m\n\u001b[0;32m----> 1\u001b[0;31m \u001b[0mpp\u001b[0m\u001b[0;34m.\u001b[0m\u001b[0mpprint\u001b[0m\u001b[0;34m(\u001b[0m\u001b[0mrace_df\u001b[0m\u001b[0;34m.\u001b[0m\u001b[0mrace_ethnicity\u001b[0m\u001b[0;34m.\u001b[0m\u001b[0munique\u001b[0m\u001b[0;34m(\u001b[0m\u001b[0;34m)\u001b[0m\u001b[0;34m)\u001b[0m\u001b[0;34m\u001b[0m\u001b[0;34m\u001b[0m\u001b[0m\n\u001b[0m",
      "\u001b[0;31mTypeError\u001b[0m: pprint() missing 1 required positional argument: 'object'"
     ]
    }
   ],
   "source": [
    "pp.pprint(race_df.race_ethnicity.unique())"
   ]
  },
  {
   "cell_type": "code",
   "execution_count": null,
   "metadata": {},
   "outputs": [],
   "source": []
  }
 ],
 "metadata": {
  "kernelspec": {
   "display_name": "Python 3",
   "language": "python",
   "name": "python3"
  },
  "language_info": {
   "codemirror_mode": {
    "name": "ipython",
    "version": 3
   },
   "file_extension": ".py",
   "mimetype": "text/x-python",
   "name": "python",
   "nbconvert_exporter": "python",
   "pygments_lexer": "ipython3",
   "version": "3.8.5"
  }
 },
 "nbformat": 4,
 "nbformat_minor": 4
}
